{
  "nbformat": 4,
  "nbformat_minor": 0,
  "metadata": {
    "colab": {
      "provenance": [],
      "toc_visible": true
    },
    "kernelspec": {
      "name": "python3",
      "display_name": "Python 3"
    },
    "language_info": {
      "name": "python"
    }
  },
  "cells": [
    {
      "cell_type": "markdown",
      "source": [
        "#Importing libraries\n"
      ],
      "metadata": {
        "id": "DezLkOz63xx-"
      }
    },
    {
      "cell_type": "code",
      "execution_count": 2,
      "metadata": {
        "id": "doX38mUT3qM1"
      },
      "outputs": [],
      "source": [
        "import numpy as np\n",
        "import pandas as pd\n",
        "import matplotlib.pyplot as plt\n",
        "import seaborn as sns"
      ]
    },
    {
      "cell_type": "markdown",
      "source": [
        "#Reading data"
      ],
      "metadata": {
        "id": "PhghO-vg35KZ"
      }
    },
    {
      "cell_type": "code",
      "source": [
        "df = pd.read_csv('DataScience.csv')"
      ],
      "metadata": {
        "id": "297OimPk4KMR"
      },
      "execution_count": 32,
      "outputs": []
    },
    {
      "cell_type": "markdown",
      "source": [
        "#Preprocessing"
      ],
      "metadata": {
        "id": "D6nYt22e4Mlx"
      }
    },
    {
      "cell_type": "code",
      "source": [
        "print(df.shape)\n",
        "print(df.head(3))\n",
        "print(df.columns)\n",
        "print(df.info())\n",
        "print(df.isnull().sum())\n",
        "df.dropna(inplace=True)"
      ],
      "metadata": {
        "colab": {
          "base_uri": "https://localhost:8080/"
        },
        "id": "tla2PyA84Qc7",
        "outputId": "7e78060b-be4d-4cd0-f4d0-1cbb6b7b7ed3"
      },
      "execution_count": 33,
      "outputs": [
        {
          "output_type": "stream",
          "name": "stdout",
          "text": [
            "(2253, 16)\n",
            "   Unnamed: 0                                          Job Title  \\\n",
            "0           0  Data Analyst, Center on Immigration and Justic...   \n",
            "1           1                               Quality Data Analyst   \n",
            "2           2  Senior Data Analyst, Insights & Analytics Team...   \n",
            "\n",
            "              Salary Estimate  \\\n",
            "0  $37K-$66K (Glassdoor est.)   \n",
            "1  $37K-$66K (Glassdoor est.)   \n",
            "2  $37K-$66K (Glassdoor est.)   \n",
            "\n",
            "                                     Job Description  Rating  \\\n",
            "0  Are you eager to roll up your sleeves and harn...     3.2   \n",
            "1  Overview\\n\\nProvides analytical and technical ...     3.8   \n",
            "2  We’re looking for a Senior Data Analyst who ha...     3.4   \n",
            "\n",
            "                              Company Name      Location  Headquarters  \\\n",
            "0           Vera Institute of Justice\\n3.2  New York, NY  New York, NY   \n",
            "1  Visiting Nurse Service of New York\\n3.8  New York, NY  New York, NY   \n",
            "2                         Squarespace\\n3.4  New York, NY  New York, NY   \n",
            "\n",
            "                     Size  Founded       Type of ownership  \\\n",
            "0    201 to 500 employees     1961  Nonprofit Organization   \n",
            "1        10000+ employees     1893  Nonprofit Organization   \n",
            "2  1001 to 5000 employees     2003       Company - Private   \n",
            "\n",
            "                           Industry                  Sector  \\\n",
            "0                 Social Assistance              Non-Profit   \n",
            "1  Health Care Services & Hospitals             Health Care   \n",
            "2                          Internet  Information Technology   \n",
            "\n",
            "                      Revenue Competitors Easy Apply  \n",
            "0  $100 to $500 million (USD)          -1       True  \n",
            "1      $2 to $5 billion (USD)          -1         -1  \n",
            "2    Unknown / Non-Applicable     GoDaddy         -1  \n",
            "Index(['Unnamed: 0', 'Job Title', 'Salary Estimate', 'Job Description',\n",
            "       'Rating', 'Company Name', 'Location', 'Headquarters', 'Size', 'Founded',\n",
            "       'Type of ownership', 'Industry', 'Sector', 'Revenue', 'Competitors',\n",
            "       'Easy Apply'],\n",
            "      dtype='object')\n",
            "<class 'pandas.core.frame.DataFrame'>\n",
            "RangeIndex: 2253 entries, 0 to 2252\n",
            "Data columns (total 16 columns):\n",
            " #   Column             Non-Null Count  Dtype  \n",
            "---  ------             --------------  -----  \n",
            " 0   Unnamed: 0         2253 non-null   int64  \n",
            " 1   Job Title          2253 non-null   object \n",
            " 2   Salary Estimate    2253 non-null   object \n",
            " 3   Job Description    2253 non-null   object \n",
            " 4   Rating             2253 non-null   float64\n",
            " 5   Company Name       2252 non-null   object \n",
            " 6   Location           2253 non-null   object \n",
            " 7   Headquarters       2253 non-null   object \n",
            " 8   Size               2253 non-null   object \n",
            " 9   Founded            2253 non-null   int64  \n",
            " 10  Type of ownership  2253 non-null   object \n",
            " 11  Industry           2253 non-null   object \n",
            " 12  Sector             2253 non-null   object \n",
            " 13  Revenue            2253 non-null   object \n",
            " 14  Competitors        2253 non-null   object \n",
            " 15  Easy Apply         2253 non-null   object \n",
            "dtypes: float64(1), int64(2), object(13)\n",
            "memory usage: 281.8+ KB\n",
            "None\n",
            "Unnamed: 0           0\n",
            "Job Title            0\n",
            "Salary Estimate      0\n",
            "Job Description      0\n",
            "Rating               0\n",
            "Company Name         1\n",
            "Location             0\n",
            "Headquarters         0\n",
            "Size                 0\n",
            "Founded              0\n",
            "Type of ownership    0\n",
            "Industry             0\n",
            "Sector               0\n",
            "Revenue              0\n",
            "Competitors          0\n",
            "Easy Apply           0\n",
            "dtype: int64\n"
          ]
        }
      ]
    },
    {
      "cell_type": "markdown",
      "source": [
        "##Salary Parsing"
      ],
      "metadata": {
        "id": "l6jvvGyO4fK7"
      }
    },
    {
      "cell_type": "code",
      "source": [
        "df = df[df['Salary Estimate'] != '-1']\n",
        "salary = df['Salary Estimate'].apply(lambda x: x.split('(')[0])\n",
        "new_salary = salary.apply(lambda x: x.replace('K','').replace('$',''))\n",
        "\n",
        "df['min_salary'] = new_salary.apply(lambda x: int(x.split('-')[0]))\n",
        "df['max_salary'] = new_salary.apply(lambda x: int(x.split('-')[1]))\n",
        "df['avg_salary'] = (df.min_salary+df.max_salary) / 2"
      ],
      "metadata": {
        "colab": {
          "base_uri": "https://localhost:8080/"
        },
        "id": "zgvnXLB34aP_",
        "outputId": "8c84394f-c420-4329-e8c6-1ad51760f207"
      },
      "execution_count": 34,
      "outputs": [
        {
          "output_type": "stream",
          "name": "stderr",
          "text": [
            "<ipython-input-34-3278c9c05833>:5: SettingWithCopyWarning: \n",
            "A value is trying to be set on a copy of a slice from a DataFrame.\n",
            "Try using .loc[row_indexer,col_indexer] = value instead\n",
            "\n",
            "See the caveats in the documentation: https://pandas.pydata.org/pandas-docs/stable/user_guide/indexing.html#returning-a-view-versus-a-copy\n",
            "  df['min_salary'] = new_salary.apply(lambda x: int(x.split('-')[0]))\n",
            "<ipython-input-34-3278c9c05833>:6: SettingWithCopyWarning: \n",
            "A value is trying to be set on a copy of a slice from a DataFrame.\n",
            "Try using .loc[row_indexer,col_indexer] = value instead\n",
            "\n",
            "See the caveats in the documentation: https://pandas.pydata.org/pandas-docs/stable/user_guide/indexing.html#returning-a-view-versus-a-copy\n",
            "  df['max_salary'] = new_salary.apply(lambda x: int(x.split('-')[1]))\n",
            "<ipython-input-34-3278c9c05833>:7: SettingWithCopyWarning: \n",
            "A value is trying to be set on a copy of a slice from a DataFrame.\n",
            "Try using .loc[row_indexer,col_indexer] = value instead\n",
            "\n",
            "See the caveats in the documentation: https://pandas.pydata.org/pandas-docs/stable/user_guide/indexing.html#returning-a-view-versus-a-copy\n",
            "  df['avg_salary'] = (df.min_salary+df.max_salary) / 2\n"
          ]
        }
      ]
    },
    {
      "cell_type": "markdown",
      "source": [
        "##Company name"
      ],
      "metadata": {
        "id": "RQ0IGuYu4llo"
      }
    },
    {
      "cell_type": "code",
      "source": [
        "df['Company text'] = df.apply(lambda x: x['Company Name'] if x['Rating'] < 0 else x['Company Name'][:-3], axis=1)\n",
        "df['Company text'] = df['Company text'].apply(lambda x: x.replace('\\n',('')))"
      ],
      "metadata": {
        "id": "ZCQmGG2O4pCS"
      },
      "execution_count": 35,
      "outputs": []
    },
    {
      "cell_type": "markdown",
      "source": [
        "##States"
      ],
      "metadata": {
        "id": "t1_wjvAK4tv7"
      }
    },
    {
      "cell_type": "code",
      "source": [
        "df['state'] = df['Location'].apply(lambda x: x.split(',')[1])\n",
        "df.state.value_counts()"
      ],
      "metadata": {
        "colab": {
          "base_uri": "https://localhost:8080/"
        },
        "id": "E-IPIwUT4v6n",
        "outputId": "cd2f0fa8-a547-49dd-b3fb-df2202ce9d73"
      },
      "execution_count": 107,
      "outputs": [
        {
          "output_type": "execute_result",
          "data": {
            "text/plain": [
              " CA          626\n",
              " TX          394\n",
              " NY          345\n",
              " IL          164\n",
              " PA          114\n",
              " AZ           97\n",
              " NC           89\n",
              " CO           88\n",
              " NJ           86\n",
              " WA           53\n",
              " VA           48\n",
              " OH           35\n",
              " UT           33\n",
              " FL           27\n",
              " IN           23\n",
              " DE           11\n",
              " Arapahoe      8\n",
              " GA            4\n",
              " KS            3\n",
              " SC            3\n",
              "Name: state, dtype: int64"
            ]
          },
          "metadata": {},
          "execution_count": 107
        }
      ]
    },
    {
      "cell_type": "code",
      "source": [
        "df.state = df.state.apply(lambda x: x.strip() if x.strip().lower() != 'arapahoe' else 'CO')\n",
        "df.state.value_counts()"
      ],
      "metadata": {
        "colab": {
          "base_uri": "https://localhost:8080/"
        },
        "id": "PEvyzbRyaAon",
        "outputId": "1218ff3d-92a3-4c25-fcd7-cf9538756f77"
      },
      "execution_count": 116,
      "outputs": [
        {
          "output_type": "execute_result",
          "data": {
            "text/plain": [
              "CA    626\n",
              "TX    394\n",
              "NY    345\n",
              "IL    164\n",
              "PA    114\n",
              "AZ     97\n",
              "CO     96\n",
              "NC     89\n",
              "NJ     86\n",
              "WA     53\n",
              "VA     48\n",
              "OH     35\n",
              "UT     33\n",
              "FL     27\n",
              "IN     23\n",
              "DE     11\n",
              "GA      4\n",
              "SC      3\n",
              "KS      3\n",
              "Name: state, dtype: int64"
            ]
          },
          "metadata": {},
          "execution_count": 116
        }
      ]
    },
    {
      "cell_type": "markdown",
      "source": [
        "##Age of the company"
      ],
      "metadata": {
        "id": "6xIAsOnS4zeq"
      }
    },
    {
      "cell_type": "code",
      "source": [
        "df['age'] = df.Founded.apply(lambda x: x if x<1 else 2023 - x)"
      ],
      "metadata": {
        "id": "395Z_s8s42Ct"
      },
      "execution_count": 37,
      "outputs": []
    },
    {
      "cell_type": "markdown",
      "source": [
        "##Job Description"
      ],
      "metadata": {
        "id": "CRFKT91L44SA"
      }
    },
    {
      "cell_type": "markdown",
      "source": [
        "###Python"
      ],
      "metadata": {
        "id": "9SIQ_k4248_o"
      }
    },
    {
      "cell_type": "code",
      "source": [
        "df['python'] = df['Job Description'].apply(lambda x: 1 if 'python' in x.lower() else 0)"
      ],
      "metadata": {
        "id": "edUt6SpJ4752"
      },
      "execution_count": 38,
      "outputs": []
    },
    {
      "cell_type": "markdown",
      "source": [
        "###SQL"
      ],
      "metadata": {
        "id": "qEWXhbTf4905"
      }
    },
    {
      "cell_type": "code",
      "source": [
        "df['sql'] = df['Job Description'].apply(lambda x: 1 if 'sql' in x.lower() else 0)\n",
        "print('SQL',df.sql.value_counts())"
      ],
      "metadata": {
        "colab": {
          "base_uri": "https://localhost:8080/"
        },
        "id": "Qvs2ZvmO5Dv0",
        "outputId": "ed6d1564-7a7c-461c-abd3-40fbf464767d"
      },
      "execution_count": 39,
      "outputs": [
        {
          "output_type": "stream",
          "name": "stdout",
          "text": [
            "SQL 1    1387\n",
            "0     864\n",
            "Name: sql, dtype: int64\n"
          ]
        }
      ]
    },
    {
      "cell_type": "markdown",
      "source": [
        "###spark"
      ],
      "metadata": {
        "id": "Sfvsu-no5P5Y"
      }
    },
    {
      "cell_type": "code",
      "source": [
        "df['spark'] = df['Job Description'].apply(lambda x: 1 if 'spark' in x.lower() else 0)\n",
        "print('Spark',df.spark.value_counts())"
      ],
      "metadata": {
        "colab": {
          "base_uri": "https://localhost:8080/"
        },
        "id": "eOHJfrq45S6T",
        "outputId": "58413a1d-2741-4048-887b-0c3c4c31192b"
      },
      "execution_count": 40,
      "outputs": [
        {
          "output_type": "stream",
          "name": "stdout",
          "text": [
            "Spark 0    2162\n",
            "1      89\n",
            "Name: spark, dtype: int64\n"
          ]
        }
      ]
    },
    {
      "cell_type": "markdown",
      "source": [
        "###aws"
      ],
      "metadata": {
        "id": "xXv-DkoT5VS_"
      }
    },
    {
      "cell_type": "code",
      "source": [
        "df['aws'] = df['Job Description'].apply(lambda x: 1 if 'aws' in x.lower() else 0)\n",
        "print('aws',df.aws.value_counts())"
      ],
      "metadata": {
        "colab": {
          "base_uri": "https://localhost:8080/"
        },
        "id": "0j0OQels5V3a",
        "outputId": "6ee5b3b2-c101-4d1a-ade3-ca9ccbeb7be2"
      },
      "execution_count": 41,
      "outputs": [
        {
          "output_type": "stream",
          "name": "stdout",
          "text": [
            "aws 0    1976\n",
            "1     275\n",
            "Name: aws, dtype: int64\n"
          ]
        }
      ]
    },
    {
      "cell_type": "markdown",
      "source": [
        "###excel"
      ],
      "metadata": {
        "id": "5DpZql0C5YXp"
      }
    },
    {
      "cell_type": "code",
      "source": [
        "df['excel'] = df['Job Description'].apply(lambda x: 1 if 'excel' in x.lower() else 0)\n",
        "print('excel',df.excel.value_counts())"
      ],
      "metadata": {
        "colab": {
          "base_uri": "https://localhost:8080/"
        },
        "id": "QvpWbBWv5Z4e",
        "outputId": "47ccdf25-da49-4ee2-d68f-9eea51a2bf44"
      },
      "execution_count": 42,
      "outputs": [
        {
          "output_type": "stream",
          "name": "stdout",
          "text": [
            "excel 1    1352\n",
            "0     899\n",
            "Name: excel, dtype: int64\n"
          ]
        }
      ]
    },
    {
      "cell_type": "markdown",
      "source": [
        "###Tableau"
      ],
      "metadata": {
        "id": "vOqjmw3R5cIT"
      }
    },
    {
      "cell_type": "code",
      "source": [
        "df['tableau'] = df['Job Description'].apply(lambda x: 1 if 'tableau' in x.lower() else 0)\n",
        "print('tableau',df.tableau.value_counts())"
      ],
      "metadata": {
        "colab": {
          "base_uri": "https://localhost:8080/"
        },
        "id": "8P6RGTPr5eZY",
        "outputId": "c56e9a92-c780-4344-9566-20701cda5d37"
      },
      "execution_count": 43,
      "outputs": [
        {
          "output_type": "stream",
          "name": "stdout",
          "text": [
            "tableau 0    1631\n",
            "1     620\n",
            "Name: tableau, dtype: int64\n"
          ]
        }
      ]
    },
    {
      "cell_type": "markdown",
      "source": [
        "##Job Title and Seniority"
      ],
      "metadata": {
        "id": "-QErAF7V9NGQ"
      }
    },
    {
      "cell_type": "code",
      "source": [
        "def job_title(title):\n",
        "  if 'data scientist' in title.lower():\n",
        "    return 'data scientist'\n",
        "  elif 'data engineer' in title.lower():\n",
        "    return 'data engineer'\n",
        "  elif 'analyst' in title.lower():\n",
        "    return 'analyst'\n",
        "  elif 'machine learning' in title.lower():\n",
        "    return 'machine learning'\n",
        "  elif 'manager' in title.lower():\n",
        "    return 'manager'\n",
        "  elif 'director' in title.lower():\n",
        "    return 'director'\n",
        "  else:\n",
        "    return 'na'"
      ],
      "metadata": {
        "id": "MDGx3MP89ahp"
      },
      "execution_count": 44,
      "outputs": []
    },
    {
      "cell_type": "code",
      "source": [
        "def seniority(title):\n",
        "  if 'sr' in title.lower() or 'sr.' in title.lower() or 'senior' in title.lower() or 'lead' in title.lower() or 'principle' in title.lower():\n",
        "    return 'senior'\n",
        "  elif 'jr' in title.lower() or 'junior' in title.lower() or 'jr.' in title.lower():\n",
        "    return 'junior'\n",
        "  else:\n",
        "    return 'na'"
      ],
      "metadata": {
        "id": "_j48MJ9J-KIn"
      },
      "execution_count": 45,
      "outputs": []
    },
    {
      "cell_type": "code",
      "source": [
        "df['job_simplified'] = df['Job Title'].apply(job_title)\n",
        "df['seniority'] = df['Job Title'].apply(seniority)"
      ],
      "metadata": {
        "id": "IaIgjHur_Iaw"
      },
      "execution_count": 46,
      "outputs": []
    },
    {
      "cell_type": "code",
      "source": [
        "df.seniority.value_counts()"
      ],
      "metadata": {
        "colab": {
          "base_uri": "https://localhost:8080/"
        },
        "id": "R7cqxIxV_SYG",
        "outputId": "27e85b02-4c6a-46ff-8d2b-6c0174368165"
      },
      "execution_count": 47,
      "outputs": [
        {
          "output_type": "execute_result",
          "data": {
            "text/plain": [
              "na        1704\n",
              "senior     474\n",
              "junior      73\n",
              "Name: seniority, dtype: int64"
            ]
          },
          "metadata": {},
          "execution_count": 47
        }
      ]
    },
    {
      "cell_type": "markdown",
      "source": [
        "##Job description length"
      ],
      "metadata": {
        "id": "XSG9U_fwAQVp"
      }
    },
    {
      "cell_type": "code",
      "source": [
        "df['description length'] = df['Job Description'].apply(lambda x: len(x))"
      ],
      "metadata": {
        "id": "BzoMN8U0ALK4"
      },
      "execution_count": 48,
      "outputs": []
    },
    {
      "cell_type": "markdown",
      "source": [
        "##Competitors "
      ],
      "metadata": {
        "id": "rZmpbkY6BJQI"
      }
    },
    {
      "cell_type": "code",
      "source": [
        "df['number_competitors'] = df['Competitors'].apply(lambda x: len(x.split()) if x != '-1' else 0)"
      ],
      "metadata": {
        "id": "np-4VxU3BQEs"
      },
      "execution_count": 49,
      "outputs": []
    },
    {
      "cell_type": "markdown",
      "source": [
        "##Save cleaned"
      ],
      "metadata": {
        "id": "SKPTayQJ5ick"
      }
    },
    {
      "cell_type": "code",
      "source": [
        "df_output = df.drop(['Unnamed: 0','Easy Apply'], axis=1)\n",
        "print(df_output.columns)\n",
        "df_output.to_csv('Salary_cleaned.csv', index=False)"
      ],
      "metadata": {
        "colab": {
          "base_uri": "https://localhost:8080/"
        },
        "id": "d1YfUeRq5hE2",
        "outputId": "13833cc5-3b21-419d-f434-d625267c4579"
      },
      "execution_count": 137,
      "outputs": [
        {
          "output_type": "stream",
          "name": "stdout",
          "text": [
            "Index(['Job Title', 'Salary Estimate', 'Job Description', 'Rating',\n",
            "       'Company Name', 'Location', 'Headquarters', 'Size', 'Founded',\n",
            "       'Type of ownership', 'Industry', 'Sector', 'Revenue', 'Competitors',\n",
            "       'min_salary', 'max_salary', 'avg_salary', 'Company text', 'state',\n",
            "       'age', 'python', 'sql', 'spark', 'aws', 'excel', 'tableau',\n",
            "       'job_simplified', 'seniority', 'description length',\n",
            "       'number_competitors'],\n",
            "      dtype='object')\n"
          ]
        }
      ]
    },
    {
      "cell_type": "markdown",
      "source": [
        "#Exploratory Data Analysis (EDA)"
      ],
      "metadata": {
        "id": "jNKTaOvsDVSi"
      }
    },
    {
      "cell_type": "code",
      "source": [
        "df_output.describe()"
      ],
      "metadata": {
        "colab": {
          "base_uri": "https://localhost:8080/",
          "height": 382
        },
        "id": "JHe_pVuiDk8k",
        "outputId": "1b013263-ce88-497e-c6ce-45e2f06e48d1"
      },
      "execution_count": 117,
      "outputs": [
        {
          "output_type": "execute_result",
          "data": {
            "text/plain": [
              "            Rating      Founded   min_salary   max_salary   avg_salary  \\\n",
              "count  2251.000000  2251.000000  2251.000000  2251.000000  2251.000000   \n",
              "mean      3.161928  1398.876944    54.267437    89.975122    72.121279   \n",
              "std       1.663451   901.758003    19.579706    29.321502    23.605836   \n",
              "min      -1.000000    -1.000000    24.000000    38.000000    33.500000   \n",
              "25%       3.100000    -1.000000    41.000000    70.000000    58.000000   \n",
              "50%       3.600000  1979.000000    50.000000    87.000000    69.000000   \n",
              "75%       4.000000  2002.000000    64.000000   104.000000    80.500000   \n",
              "max       5.000000  2019.000000   113.000000   190.000000   150.000000   \n",
              "\n",
              "               age       python          sql        spark          aws  \\\n",
              "count  2251.000000  2251.000000  2251.000000  2251.000000  2251.000000   \n",
              "mean     31.286539     0.282985     0.616171     0.039538     0.122168   \n",
              "std      45.272813     0.450549     0.486425     0.194914     0.327552   \n",
              "min      -1.000000     0.000000     0.000000     0.000000     0.000000   \n",
              "25%      -1.000000     0.000000     0.000000     0.000000     0.000000   \n",
              "50%      19.000000     0.000000     1.000000     0.000000     0.000000   \n",
              "75%      36.500000     1.000000     1.000000     0.000000     0.000000   \n",
              "max     341.000000     1.000000     1.000000     1.000000     1.000000   \n",
              "\n",
              "             excel      tableau  description length  number_competitors  \n",
              "count  2251.000000  2251.000000         2251.000000         2251.000000  \n",
              "mean      0.600622     0.275433         3120.365615            1.002221  \n",
              "std       0.489879     0.446832         1858.823549            2.061390  \n",
              "min       0.000000     0.000000            5.000000            0.000000  \n",
              "25%       0.000000     0.000000         1760.500000            0.000000  \n",
              "50%       1.000000     0.000000         2883.000000            0.000000  \n",
              "75%       1.000000     1.000000         4119.000000            0.000000  \n",
              "max       1.000000     1.000000        18664.000000           14.000000  "
            ],
            "text/html": [
              "\n",
              "  <div id=\"df-1432733c-d66d-4e84-982c-3bc615dc703b\">\n",
              "    <div class=\"colab-df-container\">\n",
              "      <div>\n",
              "<style scoped>\n",
              "    .dataframe tbody tr th:only-of-type {\n",
              "        vertical-align: middle;\n",
              "    }\n",
              "\n",
              "    .dataframe tbody tr th {\n",
              "        vertical-align: top;\n",
              "    }\n",
              "\n",
              "    .dataframe thead th {\n",
              "        text-align: right;\n",
              "    }\n",
              "</style>\n",
              "<table border=\"1\" class=\"dataframe\">\n",
              "  <thead>\n",
              "    <tr style=\"text-align: right;\">\n",
              "      <th></th>\n",
              "      <th>Rating</th>\n",
              "      <th>Founded</th>\n",
              "      <th>min_salary</th>\n",
              "      <th>max_salary</th>\n",
              "      <th>avg_salary</th>\n",
              "      <th>age</th>\n",
              "      <th>python</th>\n",
              "      <th>sql</th>\n",
              "      <th>spark</th>\n",
              "      <th>aws</th>\n",
              "      <th>excel</th>\n",
              "      <th>tableau</th>\n",
              "      <th>description length</th>\n",
              "      <th>number_competitors</th>\n",
              "    </tr>\n",
              "  </thead>\n",
              "  <tbody>\n",
              "    <tr>\n",
              "      <th>count</th>\n",
              "      <td>2251.000000</td>\n",
              "      <td>2251.000000</td>\n",
              "      <td>2251.000000</td>\n",
              "      <td>2251.000000</td>\n",
              "      <td>2251.000000</td>\n",
              "      <td>2251.000000</td>\n",
              "      <td>2251.000000</td>\n",
              "      <td>2251.000000</td>\n",
              "      <td>2251.000000</td>\n",
              "      <td>2251.000000</td>\n",
              "      <td>2251.000000</td>\n",
              "      <td>2251.000000</td>\n",
              "      <td>2251.000000</td>\n",
              "      <td>2251.000000</td>\n",
              "    </tr>\n",
              "    <tr>\n",
              "      <th>mean</th>\n",
              "      <td>3.161928</td>\n",
              "      <td>1398.876944</td>\n",
              "      <td>54.267437</td>\n",
              "      <td>89.975122</td>\n",
              "      <td>72.121279</td>\n",
              "      <td>31.286539</td>\n",
              "      <td>0.282985</td>\n",
              "      <td>0.616171</td>\n",
              "      <td>0.039538</td>\n",
              "      <td>0.122168</td>\n",
              "      <td>0.600622</td>\n",
              "      <td>0.275433</td>\n",
              "      <td>3120.365615</td>\n",
              "      <td>1.002221</td>\n",
              "    </tr>\n",
              "    <tr>\n",
              "      <th>std</th>\n",
              "      <td>1.663451</td>\n",
              "      <td>901.758003</td>\n",
              "      <td>19.579706</td>\n",
              "      <td>29.321502</td>\n",
              "      <td>23.605836</td>\n",
              "      <td>45.272813</td>\n",
              "      <td>0.450549</td>\n",
              "      <td>0.486425</td>\n",
              "      <td>0.194914</td>\n",
              "      <td>0.327552</td>\n",
              "      <td>0.489879</td>\n",
              "      <td>0.446832</td>\n",
              "      <td>1858.823549</td>\n",
              "      <td>2.061390</td>\n",
              "    </tr>\n",
              "    <tr>\n",
              "      <th>min</th>\n",
              "      <td>-1.000000</td>\n",
              "      <td>-1.000000</td>\n",
              "      <td>24.000000</td>\n",
              "      <td>38.000000</td>\n",
              "      <td>33.500000</td>\n",
              "      <td>-1.000000</td>\n",
              "      <td>0.000000</td>\n",
              "      <td>0.000000</td>\n",
              "      <td>0.000000</td>\n",
              "      <td>0.000000</td>\n",
              "      <td>0.000000</td>\n",
              "      <td>0.000000</td>\n",
              "      <td>5.000000</td>\n",
              "      <td>0.000000</td>\n",
              "    </tr>\n",
              "    <tr>\n",
              "      <th>25%</th>\n",
              "      <td>3.100000</td>\n",
              "      <td>-1.000000</td>\n",
              "      <td>41.000000</td>\n",
              "      <td>70.000000</td>\n",
              "      <td>58.000000</td>\n",
              "      <td>-1.000000</td>\n",
              "      <td>0.000000</td>\n",
              "      <td>0.000000</td>\n",
              "      <td>0.000000</td>\n",
              "      <td>0.000000</td>\n",
              "      <td>0.000000</td>\n",
              "      <td>0.000000</td>\n",
              "      <td>1760.500000</td>\n",
              "      <td>0.000000</td>\n",
              "    </tr>\n",
              "    <tr>\n",
              "      <th>50%</th>\n",
              "      <td>3.600000</td>\n",
              "      <td>1979.000000</td>\n",
              "      <td>50.000000</td>\n",
              "      <td>87.000000</td>\n",
              "      <td>69.000000</td>\n",
              "      <td>19.000000</td>\n",
              "      <td>0.000000</td>\n",
              "      <td>1.000000</td>\n",
              "      <td>0.000000</td>\n",
              "      <td>0.000000</td>\n",
              "      <td>1.000000</td>\n",
              "      <td>0.000000</td>\n",
              "      <td>2883.000000</td>\n",
              "      <td>0.000000</td>\n",
              "    </tr>\n",
              "    <tr>\n",
              "      <th>75%</th>\n",
              "      <td>4.000000</td>\n",
              "      <td>2002.000000</td>\n",
              "      <td>64.000000</td>\n",
              "      <td>104.000000</td>\n",
              "      <td>80.500000</td>\n",
              "      <td>36.500000</td>\n",
              "      <td>1.000000</td>\n",
              "      <td>1.000000</td>\n",
              "      <td>0.000000</td>\n",
              "      <td>0.000000</td>\n",
              "      <td>1.000000</td>\n",
              "      <td>1.000000</td>\n",
              "      <td>4119.000000</td>\n",
              "      <td>0.000000</td>\n",
              "    </tr>\n",
              "    <tr>\n",
              "      <th>max</th>\n",
              "      <td>5.000000</td>\n",
              "      <td>2019.000000</td>\n",
              "      <td>113.000000</td>\n",
              "      <td>190.000000</td>\n",
              "      <td>150.000000</td>\n",
              "      <td>341.000000</td>\n",
              "      <td>1.000000</td>\n",
              "      <td>1.000000</td>\n",
              "      <td>1.000000</td>\n",
              "      <td>1.000000</td>\n",
              "      <td>1.000000</td>\n",
              "      <td>1.000000</td>\n",
              "      <td>18664.000000</td>\n",
              "      <td>14.000000</td>\n",
              "    </tr>\n",
              "  </tbody>\n",
              "</table>\n",
              "</div>\n",
              "      <button class=\"colab-df-convert\" onclick=\"convertToInteractive('df-1432733c-d66d-4e84-982c-3bc615dc703b')\"\n",
              "              title=\"Convert this dataframe to an interactive table.\"\n",
              "              style=\"display:none;\">\n",
              "        \n",
              "  <svg xmlns=\"http://www.w3.org/2000/svg\" height=\"24px\"viewBox=\"0 0 24 24\"\n",
              "       width=\"24px\">\n",
              "    <path d=\"M0 0h24v24H0V0z\" fill=\"none\"/>\n",
              "    <path d=\"M18.56 5.44l.94 2.06.94-2.06 2.06-.94-2.06-.94-.94-2.06-.94 2.06-2.06.94zm-11 1L8.5 8.5l.94-2.06 2.06-.94-2.06-.94L8.5 2.5l-.94 2.06-2.06.94zm10 10l.94 2.06.94-2.06 2.06-.94-2.06-.94-.94-2.06-.94 2.06-2.06.94z\"/><path d=\"M17.41 7.96l-1.37-1.37c-.4-.4-.92-.59-1.43-.59-.52 0-1.04.2-1.43.59L10.3 9.45l-7.72 7.72c-.78.78-.78 2.05 0 2.83L4 21.41c.39.39.9.59 1.41.59.51 0 1.02-.2 1.41-.59l7.78-7.78 2.81-2.81c.8-.78.8-2.07 0-2.86zM5.41 20L4 18.59l7.72-7.72 1.47 1.35L5.41 20z\"/>\n",
              "  </svg>\n",
              "      </button>\n",
              "      \n",
              "  <style>\n",
              "    .colab-df-container {\n",
              "      display:flex;\n",
              "      flex-wrap:wrap;\n",
              "      gap: 12px;\n",
              "    }\n",
              "\n",
              "    .colab-df-convert {\n",
              "      background-color: #E8F0FE;\n",
              "      border: none;\n",
              "      border-radius: 50%;\n",
              "      cursor: pointer;\n",
              "      display: none;\n",
              "      fill: #1967D2;\n",
              "      height: 32px;\n",
              "      padding: 0 0 0 0;\n",
              "      width: 32px;\n",
              "    }\n",
              "\n",
              "    .colab-df-convert:hover {\n",
              "      background-color: #E2EBFA;\n",
              "      box-shadow: 0px 1px 2px rgba(60, 64, 67, 0.3), 0px 1px 3px 1px rgba(60, 64, 67, 0.15);\n",
              "      fill: #174EA6;\n",
              "    }\n",
              "\n",
              "    [theme=dark] .colab-df-convert {\n",
              "      background-color: #3B4455;\n",
              "      fill: #D2E3FC;\n",
              "    }\n",
              "\n",
              "    [theme=dark] .colab-df-convert:hover {\n",
              "      background-color: #434B5C;\n",
              "      box-shadow: 0px 1px 3px 1px rgba(0, 0, 0, 0.15);\n",
              "      filter: drop-shadow(0px 1px 2px rgba(0, 0, 0, 0.3));\n",
              "      fill: #FFFFFF;\n",
              "    }\n",
              "  </style>\n",
              "\n",
              "      <script>\n",
              "        const buttonEl =\n",
              "          document.querySelector('#df-1432733c-d66d-4e84-982c-3bc615dc703b button.colab-df-convert');\n",
              "        buttonEl.style.display =\n",
              "          google.colab.kernel.accessAllowed ? 'block' : 'none';\n",
              "\n",
              "        async function convertToInteractive(key) {\n",
              "          const element = document.querySelector('#df-1432733c-d66d-4e84-982c-3bc615dc703b');\n",
              "          const dataTable =\n",
              "            await google.colab.kernel.invokeFunction('convertToInteractive',\n",
              "                                                     [key], {});\n",
              "          if (!dataTable) return;\n",
              "\n",
              "          const docLinkHtml = 'Like what you see? Visit the ' +\n",
              "            '<a target=\"_blank\" href=https://colab.research.google.com/notebooks/data_table.ipynb>data table notebook</a>'\n",
              "            + ' to learn more about interactive tables.';\n",
              "          element.innerHTML = '';\n",
              "          dataTable['output_type'] = 'display_data';\n",
              "          await google.colab.output.renderOutput(dataTable, element);\n",
              "          const docLink = document.createElement('div');\n",
              "          docLink.innerHTML = docLinkHtml;\n",
              "          element.appendChild(docLink);\n",
              "        }\n",
              "      </script>\n",
              "    </div>\n",
              "  </div>\n",
              "  "
            ]
          },
          "metadata": {},
          "execution_count": 117
        }
      ]
    },
    {
      "cell_type": "code",
      "source": [
        "df_output.info()"
      ],
      "metadata": {
        "colab": {
          "base_uri": "https://localhost:8080/"
        },
        "id": "_nAk3HtsGhWo",
        "outputId": "28c597fe-12f1-444e-e49f-5908737e87ca"
      },
      "execution_count": 118,
      "outputs": [
        {
          "output_type": "stream",
          "name": "stdout",
          "text": [
            "<class 'pandas.core.frame.DataFrame'>\n",
            "Int64Index: 2251 entries, 0 to 2252\n",
            "Data columns (total 30 columns):\n",
            " #   Column              Non-Null Count  Dtype  \n",
            "---  ------              --------------  -----  \n",
            " 0   Job Title           2251 non-null   object \n",
            " 1   Salary Estimate     2251 non-null   object \n",
            " 2   Job Description     2251 non-null   object \n",
            " 3   Rating              2251 non-null   float64\n",
            " 4   Company Name        2251 non-null   object \n",
            " 5   Location            2251 non-null   object \n",
            " 6   Headquarters        2251 non-null   object \n",
            " 7   Size                2251 non-null   object \n",
            " 8   Founded             2251 non-null   int64  \n",
            " 9   Type of ownership   2251 non-null   object \n",
            " 10  Industry            2251 non-null   object \n",
            " 11  Sector              2251 non-null   object \n",
            " 12  Revenue             2251 non-null   object \n",
            " 13  Competitors         2251 non-null   object \n",
            " 14  min_salary          2251 non-null   int64  \n",
            " 15  max_salary          2251 non-null   int64  \n",
            " 16  avg_salary          2251 non-null   float64\n",
            " 17  Company text        2251 non-null   object \n",
            " 18  state               2251 non-null   object \n",
            " 19  age                 2251 non-null   int64  \n",
            " 20  python              2251 non-null   int64  \n",
            " 21  sql                 2251 non-null   int64  \n",
            " 22  spark               2251 non-null   int64  \n",
            " 23  aws                 2251 non-null   int64  \n",
            " 24  excel               2251 non-null   int64  \n",
            " 25  tableau             2251 non-null   int64  \n",
            " 26  job_simplified      2251 non-null   object \n",
            " 27  seniority           2251 non-null   object \n",
            " 28  description length  2251 non-null   int64  \n",
            " 29  number_competitors  2251 non-null   int64  \n",
            "dtypes: float64(2), int64(12), object(16)\n",
            "memory usage: 545.2+ KB\n"
          ]
        }
      ]
    },
    {
      "cell_type": "markdown",
      "source": [
        "##Continous variables"
      ],
      "metadata": {
        "id": "PoyoMhuhMEjK"
      }
    },
    {
      "cell_type": "markdown",
      "source": [
        "###Histogram"
      ],
      "metadata": {
        "id": "5FN6q_BIHzdW"
      }
    },
    {
      "cell_type": "code",
      "source": [
        "df_output.Rating.hist()"
      ],
      "metadata": {
        "colab": {
          "base_uri": "https://localhost:8080/",
          "height": 283
        },
        "id": "cdd29RgpGosO",
        "outputId": "7ae6fb91-8cbd-47d3-f18f-073c6b0d5641"
      },
      "execution_count": 119,
      "outputs": [
        {
          "output_type": "execute_result",
          "data": {
            "text/plain": [
              "<AxesSubplot:>"
            ]
          },
          "metadata": {},
          "execution_count": 119
        },
        {
          "output_type": "display_data",
          "data": {
            "text/plain": [
              "<Figure size 432x288 with 1 Axes>"
            ],
            "image/png": "[encoded data removed]"
          },
          "metadata": {
            "needs_background": "light"
          }
        }
      ]
    },
    {
      "cell_type": "code",
      "source": [
        "df_output.number_competitors.hist()"
      ],
      "metadata": {
        "colab": {
          "base_uri": "https://localhost:8080/",
          "height": 283
        },
        "id": "2H6WYDSBHA5n",
        "outputId": "fd783369-ce32-45e3-c688-a61d598d9c3f"
      },
      "execution_count": 120,
      "outputs": [
        {
          "output_type": "execute_result",
          "data": {
            "text/plain": [
              "<AxesSubplot:>"
            ]
          },
          "metadata": {},
          "execution_count": 120
        },
        {
          "output_type": "display_data",
          "data": {
            "text/plain": [
              "<Figure size 432x288 with 1 Axes>"
            ],
            "image/png": "[encoded data removed]"
          },
          "metadata": {
            "needs_background": "light"
          }
        }
      ]
    },
    {
      "cell_type": "code",
      "source": [
        "df_output.Founded.hist()"
      ],
      "metadata": {
        "colab": {
          "base_uri": "https://localhost:8080/",
          "height": 283
        },
        "id": "LYj0XOJiHG_t",
        "outputId": "d957fc32-405c-4f97-b0de-07c720eeb0da"
      },
      "execution_count": 121,
      "outputs": [
        {
          "output_type": "execute_result",
          "data": {
            "text/plain": [
              "<AxesSubplot:>"
            ]
          },
          "metadata": {},
          "execution_count": 121
        },
        {
          "output_type": "display_data",
          "data": {
            "text/plain": [
              "<Figure size 432x288 with 1 Axes>"
            ],
            "image/png": "[encoded data removed]"
          },
          "metadata": {
            "needs_background": "light"
          }
        }
      ]
    },
    {
      "cell_type": "code",
      "source": [
        "df_output['description length'].hist()"
      ],
      "metadata": {
        "colab": {
          "base_uri": "https://localhost:8080/",
          "height": 283
        },
        "id": "KAr2D1clHRw5",
        "outputId": "fdf1b741-b110-4afa-d099-22a146368f4d"
      },
      "execution_count": 122,
      "outputs": [
        {
          "output_type": "execute_result",
          "data": {
            "text/plain": [
              "<AxesSubplot:>"
            ]
          },
          "metadata": {},
          "execution_count": 122
        },
        {
          "output_type": "display_data",
          "data": {
            "text/plain": [
              "<Figure size 432x288 with 1 Axes>"
            ],
            "image/png": "[encoded data removed]"
          },
          "metadata": {
            "needs_background": "light"
          }
        }
      ]
    },
    {
      "cell_type": "code",
      "source": [
        "df_output.age.hist()"
      ],
      "metadata": {
        "colab": {
          "base_uri": "https://localhost:8080/",
          "height": 283
        },
        "id": "DN5eDtGHHYdI",
        "outputId": "12170cfa-f654-46e2-f7a8-3bf9a12ac0ab"
      },
      "execution_count": 123,
      "outputs": [
        {
          "output_type": "execute_result",
          "data": {
            "text/plain": [
              "<AxesSubplot:>"
            ]
          },
          "metadata": {},
          "execution_count": 123
        },
        {
          "output_type": "display_data",
          "data": {
            "text/plain": [
              "<Figure size 432x288 with 1 Axes>"
            ],
            "image/png": "[encoded data removed]"
          },
          "metadata": {
            "needs_background": "light"
          }
        }
      ]
    },
    {
      "cell_type": "markdown",
      "source": [
        "###Box plot"
      ],
      "metadata": {
        "id": "N1Aves_sH5aA"
      }
    },
    {
      "cell_type": "code",
      "source": [
        "df_output.boxplot(column=['age', 'avg_salary','Rating'])"
      ],
      "metadata": {
        "colab": {
          "base_uri": "https://localhost:8080/",
          "height": 284
        },
        "id": "c9Bw9OacHhjD",
        "outputId": "d04f2f62-20a6-4a42-85e1-25123efd1578"
      },
      "execution_count": 124,
      "outputs": [
        {
          "output_type": "execute_result",
          "data": {
            "text/plain": [
              "<AxesSubplot:>"
            ]
          },
          "metadata": {},
          "execution_count": 124
        },
        {
          "output_type": "display_data",
          "data": {
            "text/plain": [
              "<Figure size 432x288 with 1 Axes>"
            ],
            "image/png": "[encoded data removed]"
          },
          "metadata": {
            "needs_background": "light"
          }
        }
      ]
    },
    {
      "cell_type": "code",
      "source": [
        "df_output.boxplot(column='Rating')"
      ],
      "metadata": {
        "colab": {
          "base_uri": "https://localhost:8080/",
          "height": 283
        },
        "id": "A2CHGSBMIu-x",
        "outputId": "3674a524-4aa4-4c9c-d2f1-3a230fb5269e"
      },
      "execution_count": 125,
      "outputs": [
        {
          "output_type": "execute_result",
          "data": {
            "text/plain": [
              "<AxesSubplot:>"
            ]
          },
          "metadata": {},
          "execution_count": 125
        },
        {
          "output_type": "display_data",
          "data": {
            "text/plain": [
              "<Figure size 432x288 with 1 Axes>"
            ],
            "image/png": "[encoded data removed]"
          },
          "metadata": {
            "needs_background": "light"
          }
        }
      ]
    },
    {
      "cell_type": "code",
      "source": [
        "df_output[['age', 'avg_salary','Rating','description length']].corr()"
      ],
      "metadata": {
        "colab": {
          "base_uri": "https://localhost:8080/",
          "height": 175
        },
        "id": "QlwKzQPfI0qz",
        "outputId": "bcae1d10-04f4-4066-d08c-31736aff9c8c"
      },
      "execution_count": 126,
      "outputs": [
        {
          "output_type": "execute_result",
          "data": {
            "text/plain": [
              "                         age  avg_salary    Rating  description length\n",
              "age                 1.000000   -0.074963  0.196459            0.255158\n",
              "avg_salary         -0.074963    1.000000  0.004489           -0.033598\n",
              "Rating              0.196459    0.004489  1.000000           -0.019444\n",
              "description length  0.255158   -0.033598 -0.019444            1.000000"
            ],
            "text/html": [
              "\n",
              "  <div id=\"df-29fa5034-07d7-415e-8931-d5baca51b130\">\n",
              "    <div class=\"colab-df-container\">\n",
              "      <div>\n",
              "<style scoped>\n",
              "    .dataframe tbody tr th:only-of-type {\n",
              "        vertical-align: middle;\n",
              "    }\n",
              "\n",
              "    .dataframe tbody tr th {\n",
              "        vertical-align: top;\n",
              "    }\n",
              "\n",
              "    .dataframe thead th {\n",
              "        text-align: right;\n",
              "    }\n",
              "</style>\n",
              "<table border=\"1\" class=\"dataframe\">\n",
              "  <thead>\n",
              "    <tr style=\"text-align: right;\">\n",
              "      <th></th>\n",
              "      <th>age</th>\n",
              "      <th>avg_salary</th>\n",
              "      <th>Rating</th>\n",
              "      <th>description length</th>\n",
              "    </tr>\n",
              "  </thead>\n",
              "  <tbody>\n",
              "    <tr>\n",
              "      <th>age</th>\n",
              "      <td>1.000000</td>\n",
              "      <td>-0.074963</td>\n",
              "      <td>0.196459</td>\n",
              "      <td>0.255158</td>\n",
              "    </tr>\n",
              "    <tr>\n",
              "      <th>avg_salary</th>\n",
              "      <td>-0.074963</td>\n",
              "      <td>1.000000</td>\n",
              "      <td>0.004489</td>\n",
              "      <td>-0.033598</td>\n",
              "    </tr>\n",
              "    <tr>\n",
              "      <th>Rating</th>\n",
              "      <td>0.196459</td>\n",
              "      <td>0.004489</td>\n",
              "      <td>1.000000</td>\n",
              "      <td>-0.019444</td>\n",
              "    </tr>\n",
              "    <tr>\n",
              "      <th>description length</th>\n",
              "      <td>0.255158</td>\n",
              "      <td>-0.033598</td>\n",
              "      <td>-0.019444</td>\n",
              "      <td>1.000000</td>\n",
              "    </tr>\n",
              "  </tbody>\n",
              "</table>\n",
              "</div>\n",
              "      <button class=\"colab-df-convert\" onclick=\"convertToInteractive('df-29fa5034-07d7-415e-8931-d5baca51b130')\"\n",
              "              title=\"Convert this dataframe to an interactive table.\"\n",
              "              style=\"display:none;\">\n",
              "        \n",
              "  <svg xmlns=\"http://www.w3.org/2000/svg\" height=\"24px\"viewBox=\"0 0 24 24\"\n",
              "       width=\"24px\">\n",
              "    <path d=\"M0 0h24v24H0V0z\" fill=\"none\"/>\n",
              "    <path d=\"M18.56 5.44l.94 2.06.94-2.06 2.06-.94-2.06-.94-.94-2.06-.94 2.06-2.06.94zm-11 1L8.5 8.5l.94-2.06 2.06-.94-2.06-.94L8.5 2.5l-.94 2.06-2.06.94zm10 10l.94 2.06.94-2.06 2.06-.94-2.06-.94-.94-2.06-.94 2.06-2.06.94z\"/><path d=\"M17.41 7.96l-1.37-1.37c-.4-.4-.92-.59-1.43-.59-.52 0-1.04.2-1.43.59L10.3 9.45l-7.72 7.72c-.78.78-.78 2.05 0 2.83L4 21.41c.39.39.9.59 1.41.59.51 0 1.02-.2 1.41-.59l7.78-7.78 2.81-2.81c.8-.78.8-2.07 0-2.86zM5.41 20L4 18.59l7.72-7.72 1.47 1.35L5.41 20z\"/>\n",
              "  </svg>\n",
              "      </button>\n",
              "      \n",
              "  <style>\n",
              "    .colab-df-container {\n",
              "      display:flex;\n",
              "      flex-wrap:wrap;\n",
              "      gap: 12px;\n",
              "    }\n",
              "\n",
              "    .colab-df-convert {\n",
              "      background-color: #E8F0FE;\n",
              "      border: none;\n",
              "      border-radius: 50%;\n",
              "      cursor: pointer;\n",
              "      display: none;\n",
              "      fill: #1967D2;\n",
              "      height: 32px;\n",
              "      padding: 0 0 0 0;\n",
              "      width: 32px;\n",
              "    }\n",
              "\n",
              "    .colab-df-convert:hover {\n",
              "      background-color: #E2EBFA;\n",
              "      box-shadow: 0px 1px 2px rgba(60, 64, 67, 0.3), 0px 1px 3px 1px rgba(60, 64, 67, 0.15);\n",
              "      fill: #174EA6;\n",
              "    }\n",
              "\n",
              "    [theme=dark] .colab-df-convert {\n",
              "      background-color: #3B4455;\n",
              "      fill: #D2E3FC;\n",
              "    }\n",
              "\n",
              "    [theme=dark] .colab-df-convert:hover {\n",
              "      background-color: #434B5C;\n",
              "      box-shadow: 0px 1px 3px 1px rgba(0, 0, 0, 0.15);\n",
              "      filter: drop-shadow(0px 1px 2px rgba(0, 0, 0, 0.3));\n",
              "      fill: #FFFFFF;\n",
              "    }\n",
              "  </style>\n",
              "\n",
              "      <script>\n",
              "        const buttonEl =\n",
              "          document.querySelector('#df-29fa5034-07d7-415e-8931-d5baca51b130 button.colab-df-convert');\n",
              "        buttonEl.style.display =\n",
              "          google.colab.kernel.accessAllowed ? 'block' : 'none';\n",
              "\n",
              "        async function convertToInteractive(key) {\n",
              "          const element = document.querySelector('#df-29fa5034-07d7-415e-8931-d5baca51b130');\n",
              "          const dataTable =\n",
              "            await google.colab.kernel.invokeFunction('convertToInteractive',\n",
              "                                                     [key], {});\n",
              "          if (!dataTable) return;\n",
              "\n",
              "          const docLinkHtml = 'Like what you see? Visit the ' +\n",
              "            '<a target=\"_blank\" href=https://colab.research.google.com/notebooks/data_table.ipynb>data table notebook</a>'\n",
              "            + ' to learn more about interactive tables.';\n",
              "          element.innerHTML = '';\n",
              "          dataTable['output_type'] = 'display_data';\n",
              "          await google.colab.output.renderOutput(dataTable, element);\n",
              "          const docLink = document.createElement('div');\n",
              "          docLink.innerHTML = docLinkHtml;\n",
              "          element.appendChild(docLink);\n",
              "        }\n",
              "      </script>\n",
              "    </div>\n",
              "  </div>\n",
              "  "
            ]
          },
          "metadata": {},
          "execution_count": 126
        }
      ]
    },
    {
      "cell_type": "code",
      "source": [
        "cmap = sns.diverging_palette(230, 20, as_cmap=True)\n",
        "sns.heatmap(df_output[['age', 'avg_salary','Rating','description length','number_competitors']].corr(), cmap=cmap, vmax=.3, center=0,\n",
        "            square=True, linewidths=.5, cbar_kws={\"shrink\": .5})"
      ],
      "metadata": {
        "colab": {
          "base_uri": "https://localhost:8080/",
          "height": 377
        },
        "id": "FaB98Hy1JcoO",
        "outputId": "55986ff5-7a8a-49ad-9ef8-6348b95d653b"
      },
      "execution_count": 127,
      "outputs": [
        {
          "output_type": "execute_result",
          "data": {
            "text/plain": [
              "<AxesSubplot:>"
            ]
          },
          "metadata": {},
          "execution_count": 127
        },
        {
          "output_type": "display_data",
          "data": {
            "text/plain": [
              "<Figure size 432x288 with 2 Axes>"
            ],
            "image/png": "[encoded data removed]"
          },
          "metadata": {
            "needs_background": "light"
          }
        }
      ]
    },
    {
      "cell_type": "markdown",
      "source": [
        "##Categorical variables"
      ],
      "metadata": {
        "id": "x24r7weiMrUY"
      }
    },
    {
      "cell_type": "code",
      "source": [
        "df_output.columns"
      ],
      "metadata": {
        "colab": {
          "base_uri": "https://localhost:8080/"
        },
        "id": "ft2kep1lMtgl",
        "outputId": "ed344a6a-d21d-4716-82bf-bb85f12400af"
      },
      "execution_count": 128,
      "outputs": [
        {
          "output_type": "execute_result",
          "data": {
            "text/plain": [
              "Index(['Job Title', 'Salary Estimate', 'Job Description', 'Rating',\n",
              "       'Company Name', 'Location', 'Headquarters', 'Size', 'Founded',\n",
              "       'Type of ownership', 'Industry', 'Sector', 'Revenue', 'Competitors',\n",
              "       'min_salary', 'max_salary', 'avg_salary', 'Company text', 'state',\n",
              "       'age', 'python', 'sql', 'spark', 'aws', 'excel', 'tableau',\n",
              "       'job_simplified', 'seniority', 'description length',\n",
              "       'number_competitors'],\n",
              "      dtype='object')"
            ]
          },
          "metadata": {},
          "execution_count": 128
        }
      ]
    },
    {
      "cell_type": "markdown",
      "source": [
        "###Bar charts"
      ],
      "metadata": {
        "id": "rIW-5q_IXALE"
      }
    },
    {
      "cell_type": "code",
      "source": [
        "categorical_df = df[['Location', 'Headquarters', 'Size','Type of ownership', 'Industry', 'Sector', 'Revenue','Company text', 'state','python', 'sql', 'spark', 'aws', 'excel', 'tableau',\n",
        "       'job_simplified', 'seniority']]"
      ],
      "metadata": {
        "id": "kHutQYPZO72i"
      },
      "execution_count": 129,
      "outputs": []
    },
    {
      "cell_type": "code",
      "source": [
        "for i in categorical_df.columns:\n",
        "  catego_num = categorical_df[i].value_counts()\n",
        "  print('Graph for %s: total = %d'%(i,len(catego_num)))\n",
        "  sns.barplot(x=catego_num, y=catego_num.index)\n",
        "  plt.show()\n",
        "  print('\\n\\n')"
      ],
      "metadata": {
        "colab": {
          "base_uri": "https://localhost:8080/",
          "height": 1000
        },
        "id": "iHHA9em_QFJv",
        "outputId": "13022b59-9042-4129-a5fa-49bd031899f1"
      },
      "execution_count": 130,
      "outputs": [
        {
          "output_type": "stream",
          "name": "stdout",
          "text": [
            "Graph for Location: total = 253\n"
          ]
        },
        {
          "output_type": "display_data",
          "data": {
            "text/plain": [
              "<Figure size 432x288 with 1 Axes>"
            ],
            "image/png": "[encoded data removed]"
          },
          "metadata": {
            "needs_background": "light"
          }
        },
        {
          "output_type": "stream",
          "name": "stdout",
          "text": [
            "\n",
            "\n",
            "\n",
            "Graph for Headquarters: total = 483\n"
          ]
        },
        {
          "output_type": "display_data",
          "data": {
            "text/plain": [
              "<Figure size 432x288 with 1 Axes>"
            ],
            "image/png": "[encoded data removed]"
          },
          "metadata": {
            "needs_background": "light"
          }
        },
        {
          "output_type": "stream",
          "name": "stdout",
          "text": [
            "\n",
            "\n",
            "\n",
            "Graph for Size: total = 9\n"
          ]
        },
        {
          "output_type": "display_data",
          "data": {
            "text/plain": [
              "<Figure size 432x288 with 1 Axes>"
            ],
            "image/png": "[encoded data removed]"
          },
          "metadata": {
            "needs_background": "light"
          }
        },
        {
          "output_type": "stream",
          "name": "stdout",
          "text": [
            "\n",
            "\n",
            "\n",
            "Graph for Type of ownership: total = 15\n"
          ]
        },
        {
          "output_type": "display_data",
          "data": {
            "text/plain": [
              "<Figure size 432x288 with 1 Axes>"
            ],
            "image/png": "[encoded data removed]"
          },
          "metadata": {
            "needs_background": "light"
          }
        },
        {
          "output_type": "stream",
          "name": "stdout",
          "text": [
            "\n",
            "\n",
            "\n",
            "Graph for Industry: total = 89\n"
          ]
        },
        {
          "output_type": "display_data",
          "data": {
            "text/plain": [
              "<Figure size 432x288 with 1 Axes>"
            ],
            "image/png": "[encoded data removed]"
          },
          "metadata": {
            "needs_background": "light"
          }
        },
        {
          "output_type": "stream",
          "name": "stdout",
          "text": [
            "\n",
            "\n",
            "\n",
            "Graph for Sector: total = 25\n"
          ]
        },
        {
          "output_type": "display_data",
          "data": {
            "text/plain": [
              "<Figure size 432x288 with 1 Axes>"
            ],
            "image/png": "[encoded data removed]"
          },
          "metadata": {
            "needs_background": "light"
          }
        },
        {
          "output_type": "stream",
          "name": "stdout",
          "text": [
            "\n",
            "\n",
            "\n",
            "Graph for Revenue: total = 14\n"
          ]
        },
        {
          "output_type": "display_data",
          "data": {
            "text/plain": [
              "<Figure size 432x288 with 1 Axes>"
            ],
            "image/png": "[encoded data removed]"
          },
          "metadata": {
            "needs_background": "light"
          }
        },
        {
          "output_type": "stream",
          "name": "stdout",
          "text": [
            "\n",
            "\n",
            "\n",
            "Graph for Company text: total = 1501\n"
          ]
        },
        {
          "output_type": "display_data",
          "data": {
            "text/plain": [
              "<Figure size 432x288 with 1 Axes>"
            ],
            "image/png": "[encoded data removed]"
          },
          "metadata": {
            "needs_background": "light"
          }
        },
        {
          "output_type": "stream",
          "name": "stdout",
          "text": [
            "\n",
            "\n",
            "\n",
            "Graph for state: total = 19\n"
          ]
        },
        {
          "output_type": "display_data",
          "data": {
            "text/plain": [
              "<Figure size 432x288 with 1 Axes>"
            ],
            "image/png": "[encoded data removed]"
          },
          "metadata": {
            "needs_background": "light"
          }
        },
        {
          "output_type": "stream",
          "name": "stdout",
          "text": [
            "\n",
            "\n",
            "\n",
            "Graph for python: total = 2\n"
          ]
        },
        {
          "output_type": "display_data",
          "data": {
            "text/plain": [
              "<Figure size 432x288 with 1 Axes>"
            ],
            "image/png": "[encoded data removed]"
          },
          "metadata": {
            "needs_background": "light"
          }
        },
        {
          "output_type": "stream",
          "name": "stdout",
          "text": [
            "\n",
            "\n",
            "\n",
            "Graph for sql: total = 2\n"
          ]
        },
        {
          "output_type": "display_data",
          "data": {
            "text/plain": [
              "<Figure size 432x288 with 1 Axes>"
            ],
            "image/png": "[encoded data removed]"
          },
          "metadata": {
            "needs_background": "light"
          }
        },
        {
          "output_type": "stream",
          "name": "stdout",
          "text": [
            "\n",
            "\n",
            "\n",
            "Graph for spark: total = 2\n"
          ]
        },
        {
          "output_type": "display_data",
          "data": {
            "text/plain": [
              "<Figure size 432x288 with 1 Axes>"
            ],
            "image/png": "[encoded data removed]"
          },
          "metadata": {
            "needs_background": "light"
          }
        },
        {
          "output_type": "stream",
          "name": "stdout",
          "text": [
            "\n",
            "\n",
            "\n",
            "Graph for aws: total = 2\n"
          ]
        },
        {
          "output_type": "display_data",
          "data": {
            "text/plain": [
              "<Figure size 432x288 with 1 Axes>"
            ],
            "image/png": "[encoded data removed]"
          },
          "metadata": {
            "needs_background": "light"
          }
        },
        {
          "output_type": "stream",
          "name": "stdout",
          "text": [
            "\n",
            "\n",
            "\n",
            "Graph for excel: total = 2\n"
          ]
        },
        {
          "output_type": "display_data",
          "data": {
            "text/plain": [
              "<Figure size 432x288 with 1 Axes>"
            ],
            "image/png": "[encoded data removed]"
          },
          "metadata": {
            "needs_background": "light"
          }
        },
        {
          "output_type": "stream",
          "name": "stdout",
          "text": [
            "\n",
            "\n",
            "\n",
            "Graph for tableau: total = 2\n"
          ]
        },
        {
          "output_type": "display_data",
          "data": {
            "text/plain": [
              "<Figure size 432x288 with 1 Axes>"
            ],
            "image/png": "[encoded data removed]"
          },
          "metadata": {
            "needs_background": "light"
          }
        },
        {
          "output_type": "stream",
          "name": "stdout",
          "text": [
            "\n",
            "\n",
            "\n",
            "Graph for job_simplified: total = 3\n"
          ]
        },
        {
          "output_type": "display_data",
          "data": {
            "text/plain": [
              "<Figure size 432x288 with 1 Axes>"
            ],
            "image/png": "[encoded data removed]"
          },
          "metadata": {
            "needs_background": "light"
          }
        },
        {
          "output_type": "stream",
          "name": "stdout",
          "text": [
            "\n",
            "\n",
            "\n",
            "Graph for seniority: total = 3\n"
          ]
        },
        {
          "output_type": "display_data",
          "data": {
            "text/plain": [
              "<Figure size 432x288 with 1 Axes>"
            ],
            "image/png": "[encoded data removed]"
          },
          "metadata": {
            "needs_background": "light"
          }
        },
        {
          "output_type": "stream",
          "name": "stdout",
          "text": [
            "\n",
            "\n",
            "\n"
          ]
        }
      ]
    },
    {
      "cell_type": "code",
      "source": [
        "for i in categorical_df[['Location', 'Headquarters', 'Size','Industry','Company text']].columns:\n",
        "  catego_num = categorical_df[i].value_counts()[:20]\n",
        "  print('Graph for %s: total = %d'%(i,len(catego_num)))\n",
        "  sns.barplot(x=catego_num, y=catego_num.index)\n",
        "  plt.show()\n",
        "  print('\\n\\n')"
      ],
      "metadata": {
        "colab": {
          "base_uri": "https://localhost:8080/",
          "height": 1000
        },
        "id": "11rZzDKyVHdY",
        "outputId": "315b8a47-4307-41aa-f10f-45f2ced91b56"
      },
      "execution_count": 131,
      "outputs": [
        {
          "output_type": "stream",
          "name": "stdout",
          "text": [
            "Graph for Location: total = 20\n"
          ]
        },
        {
          "output_type": "display_data",
          "data": {
            "text/plain": [
              "<Figure size 432x288 with 1 Axes>"
            ],
            "image/png": "[encoded data removed]"
          },
          "metadata": {
            "needs_background": "light"
          }
        },
        {
          "output_type": "stream",
          "name": "stdout",
          "text": [
            "\n",
            "\n",
            "\n",
            "Graph for Headquarters: total = 20\n"
          ]
        },
        {
          "output_type": "display_data",
          "data": {
            "text/plain": [
              "<Figure size 432x288 with 1 Axes>"
            ],
            "image/png": "[encoded data removed]"
          },
          "metadata": {
            "needs_background": "light"
          }
        },
        {
          "output_type": "stream",
          "name": "stdout",
          "text": [
            "\n",
            "\n",
            "\n",
            "Graph for Size: total = 9\n"
          ]
        },
        {
          "output_type": "display_data",
          "data": {
            "text/plain": [
              "<Figure size 432x288 with 1 Axes>"
            ],
            "image/png": "[encoded data removed]"
          },
          "metadata": {
            "needs_background": "light"
          }
        },
        {
          "output_type": "stream",
          "name": "stdout",
          "text": [
            "\n",
            "\n",
            "\n",
            "Graph for Industry: total = 20\n"
          ]
        },
        {
          "output_type": "display_data",
          "data": {
            "text/plain": [
              "<Figure size 432x288 with 1 Axes>"
            ],
            "image/png": "[encoded data removed]"
          },
          "metadata": {
            "needs_background": "light"
          }
        },
        {
          "output_type": "stream",
          "name": "stdout",
          "text": [
            "\n",
            "\n",
            "\n",
            "Graph for Company text: total = 20\n"
          ]
        },
        {
          "output_type": "display_data",
          "data": {
            "text/plain": [
              "<Figure size 432x288 with 1 Axes>"
            ],
            "image/png": "[encoded data removed]"
          },
          "metadata": {
            "needs_background": "light"
          }
        },
        {
          "output_type": "stream",
          "name": "stdout",
          "text": [
            "\n",
            "\n",
            "\n"
          ]
        }
      ]
    },
    {
      "cell_type": "markdown",
      "source": [
        "###Pivot tables"
      ],
      "metadata": {
        "id": "vsXHrFtzXD1h"
      }
    },
    {
      "cell_type": "code",
      "source": [
        "df_output.columns"
      ],
      "metadata": {
        "colab": {
          "base_uri": "https://localhost:8080/"
        },
        "id": "1VxR4pnBfHwH",
        "outputId": "5f3a2c61-ef2e-4e9c-ebbd-2058b153c3e9"
      },
      "execution_count": 139,
      "outputs": [
        {
          "output_type": "execute_result",
          "data": {
            "text/plain": [
              "Index(['Job Title', 'Salary Estimate', 'Job Description', 'Rating',\n",
              "       'Company Name', 'Location', 'Headquarters', 'Size', 'Founded',\n",
              "       'Type of ownership', 'Industry', 'Sector', 'Revenue', 'Competitors',\n",
              "       'min_salary', 'max_salary', 'avg_salary', 'Company text', 'state',\n",
              "       'age', 'python', 'sql', 'spark', 'aws', 'excel', 'tableau',\n",
              "       'job_simplified', 'seniority', 'description length',\n",
              "       'number_competitors'],\n",
              "      dtype='object')"
            ]
          },
          "metadata": {},
          "execution_count": 139
        }
      ]
    },
    {
      "cell_type": "code",
      "source": [
        "pivot_df = df_output[['Rating','Industry', 'Sector', 'Revenue','number_competitors','python', 'sql', 'spark', 'aws', 'excel', 'tableau','description length','Type of ownership','avg_salary']]"
      ],
      "metadata": {
        "id": "iVbeleqDe-2_"
      },
      "execution_count": 161,
      "outputs": []
    },
    {
      "cell_type": "code",
      "source": [
        "pd.pivot_table(df_output, index='job_simplified', values='avg_salary')"
      ],
      "metadata": {
        "colab": {
          "base_uri": "https://localhost:8080/",
          "height": 175
        },
        "id": "4z8n8E1NVzYb",
        "outputId": "2404f3ba-4622-473b-952e-a93b7b942745"
      },
      "execution_count": 132,
      "outputs": [
        {
          "output_type": "execute_result",
          "data": {
            "text/plain": [
              "                avg_salary\n",
              "job_simplified            \n",
              "analyst          72.168468\n",
              "data engineer    67.058824\n",
              "data scientist   70.785714"
            ],
            "text/html": [
              "\n",
              "  <div id=\"df-08a8f84e-a250-454c-8665-8141c07d56e9\">\n",
              "    <div class=\"colab-df-container\">\n",
              "      <div>\n",
              "<style scoped>\n",
              "    .dataframe tbody tr th:only-of-type {\n",
              "        vertical-align: middle;\n",
              "    }\n",
              "\n",
              "    .dataframe tbody tr th {\n",
              "        vertical-align: top;\n",
              "    }\n",
              "\n",
              "    .dataframe thead th {\n",
              "        text-align: right;\n",
              "    }\n",
              "</style>\n",
              "<table border=\"1\" class=\"dataframe\">\n",
              "  <thead>\n",
              "    <tr style=\"text-align: right;\">\n",
              "      <th></th>\n",
              "      <th>avg_salary</th>\n",
              "    </tr>\n",
              "    <tr>\n",
              "      <th>job_simplified</th>\n",
              "      <th></th>\n",
              "    </tr>\n",
              "  </thead>\n",
              "  <tbody>\n",
              "    <tr>\n",
              "      <th>analyst</th>\n",
              "      <td>72.168468</td>\n",
              "    </tr>\n",
              "    <tr>\n",
              "      <th>data engineer</th>\n",
              "      <td>67.058824</td>\n",
              "    </tr>\n",
              "    <tr>\n",
              "      <th>data scientist</th>\n",
              "      <td>70.785714</td>\n",
              "    </tr>\n",
              "  </tbody>\n",
              "</table>\n",
              "</div>\n",
              "      <button class=\"colab-df-convert\" onclick=\"convertToInteractive('df-08a8f84e-a250-454c-8665-8141c07d56e9')\"\n",
              "              title=\"Convert this dataframe to an interactive table.\"\n",
              "              style=\"display:none;\">\n",
              "        \n",
              "  <svg xmlns=\"http://www.w3.org/2000/svg\" height=\"24px\"viewBox=\"0 0 24 24\"\n",
              "       width=\"24px\">\n",
              "    <path d=\"M0 0h24v24H0V0z\" fill=\"none\"/>\n",
              "    <path d=\"M18.56 5.44l.94 2.06.94-2.06 2.06-.94-2.06-.94-.94-2.06-.94 2.06-2.06.94zm-11 1L8.5 8.5l.94-2.06 2.06-.94-2.06-.94L8.5 2.5l-.94 2.06-2.06.94zm10 10l.94 2.06.94-2.06 2.06-.94-2.06-.94-.94-2.06-.94 2.06-2.06.94z\"/><path d=\"M17.41 7.96l-1.37-1.37c-.4-.4-.92-.59-1.43-.59-.52 0-1.04.2-1.43.59L10.3 9.45l-7.72 7.72c-.78.78-.78 2.05 0 2.83L4 21.41c.39.39.9.59 1.41.59.51 0 1.02-.2 1.41-.59l7.78-7.78 2.81-2.81c.8-.78.8-2.07 0-2.86zM5.41 20L4 18.59l7.72-7.72 1.47 1.35L5.41 20z\"/>\n",
              "  </svg>\n",
              "      </button>\n",
              "      \n",
              "  <style>\n",
              "    .colab-df-container {\n",
              "      display:flex;\n",
              "      flex-wrap:wrap;\n",
              "      gap: 12px;\n",
              "    }\n",
              "\n",
              "    .colab-df-convert {\n",
              "      background-color: #E8F0FE;\n",
              "      border: none;\n",
              "      border-radius: 50%;\n",
              "      cursor: pointer;\n",
              "      display: none;\n",
              "      fill: #1967D2;\n",
              "      height: 32px;\n",
              "      padding: 0 0 0 0;\n",
              "      width: 32px;\n",
              "    }\n",
              "\n",
              "    .colab-df-convert:hover {\n",
              "      background-color: #E2EBFA;\n",
              "      box-shadow: 0px 1px 2px rgba(60, 64, 67, 0.3), 0px 1px 3px 1px rgba(60, 64, 67, 0.15);\n",
              "      fill: #174EA6;\n",
              "    }\n",
              "\n",
              "    [theme=dark] .colab-df-convert {\n",
              "      background-color: #3B4455;\n",
              "      fill: #D2E3FC;\n",
              "    }\n",
              "\n",
              "    [theme=dark] .colab-df-convert:hover {\n",
              "      background-color: #434B5C;\n",
              "      box-shadow: 0px 1px 3px 1px rgba(0, 0, 0, 0.15);\n",
              "      filter: drop-shadow(0px 1px 2px rgba(0, 0, 0, 0.3));\n",
              "      fill: #FFFFFF;\n",
              "    }\n",
              "  </style>\n",
              "\n",
              "      <script>\n",
              "        const buttonEl =\n",
              "          document.querySelector('#df-08a8f84e-a250-454c-8665-8141c07d56e9 button.colab-df-convert');\n",
              "        buttonEl.style.display =\n",
              "          google.colab.kernel.accessAllowed ? 'block' : 'none';\n",
              "\n",
              "        async function convertToInteractive(key) {\n",
              "          const element = document.querySelector('#df-08a8f84e-a250-454c-8665-8141c07d56e9');\n",
              "          const dataTable =\n",
              "            await google.colab.kernel.invokeFunction('convertToInteractive',\n",
              "                                                     [key], {});\n",
              "          if (!dataTable) return;\n",
              "\n",
              "          const docLinkHtml = 'Like what you see? Visit the ' +\n",
              "            '<a target=\"_blank\" href=https://colab.research.google.com/notebooks/data_table.ipynb>data table notebook</a>'\n",
              "            + ' to learn more about interactive tables.';\n",
              "          element.innerHTML = '';\n",
              "          dataTable['output_type'] = 'display_data';\n",
              "          await google.colab.output.renderOutput(dataTable, element);\n",
              "          const docLink = document.createElement('div');\n",
              "          docLink.innerHTML = docLinkHtml;\n",
              "          element.appendChild(docLink);\n",
              "        }\n",
              "      </script>\n",
              "    </div>\n",
              "  </div>\n",
              "  "
            ]
          },
          "metadata": {},
          "execution_count": 132
        }
      ]
    },
    {
      "cell_type": "code",
      "source": [
        "pd.pivot_table(df_output, index=['job_simplified','seniority'], values='avg_salary')"
      ],
      "metadata": {
        "colab": {
          "base_uri": "https://localhost:8080/",
          "height": 300
        },
        "id": "tdxSm92fXVmz",
        "outputId": "4e653c3c-f3c8-4062-b3d8-8770e5a98a1b"
      },
      "execution_count": 133,
      "outputs": [
        {
          "output_type": "execute_result",
          "data": {
            "text/plain": [
              "                          avg_salary\n",
              "job_simplified seniority            \n",
              "analyst        junior      63.232877\n",
              "               na          71.878121\n",
              "               senior      74.621505\n",
              "data engineer  na          68.076923\n",
              "               senior      63.750000\n",
              "data scientist na          63.166667\n",
              "               senior      84.500000"
            ],
            "text/html": [
              "\n",
              "  <div id=\"df-0d762774-7a5f-4277-a41b-3ef2ebfd2523\">\n",
              "    <div class=\"colab-df-container\">\n",
              "      <div>\n",
              "<style scoped>\n",
              "    .dataframe tbody tr th:only-of-type {\n",
              "        vertical-align: middle;\n",
              "    }\n",
              "\n",
              "    .dataframe tbody tr th {\n",
              "        vertical-align: top;\n",
              "    }\n",
              "\n",
              "    .dataframe thead th {\n",
              "        text-align: right;\n",
              "    }\n",
              "</style>\n",
              "<table border=\"1\" class=\"dataframe\">\n",
              "  <thead>\n",
              "    <tr style=\"text-align: right;\">\n",
              "      <th></th>\n",
              "      <th></th>\n",
              "      <th>avg_salary</th>\n",
              "    </tr>\n",
              "    <tr>\n",
              "      <th>job_simplified</th>\n",
              "      <th>seniority</th>\n",
              "      <th></th>\n",
              "    </tr>\n",
              "  </thead>\n",
              "  <tbody>\n",
              "    <tr>\n",
              "      <th rowspan=\"3\" valign=\"top\">analyst</th>\n",
              "      <th>junior</th>\n",
              "      <td>63.232877</td>\n",
              "    </tr>\n",
              "    <tr>\n",
              "      <th>na</th>\n",
              "      <td>71.878121</td>\n",
              "    </tr>\n",
              "    <tr>\n",
              "      <th>senior</th>\n",
              "      <td>74.621505</td>\n",
              "    </tr>\n",
              "    <tr>\n",
              "      <th rowspan=\"2\" valign=\"top\">data engineer</th>\n",
              "      <th>na</th>\n",
              "      <td>68.076923</td>\n",
              "    </tr>\n",
              "    <tr>\n",
              "      <th>senior</th>\n",
              "      <td>63.750000</td>\n",
              "    </tr>\n",
              "    <tr>\n",
              "      <th rowspan=\"2\" valign=\"top\">data scientist</th>\n",
              "      <th>na</th>\n",
              "      <td>63.166667</td>\n",
              "    </tr>\n",
              "    <tr>\n",
              "      <th>senior</th>\n",
              "      <td>84.500000</td>\n",
              "    </tr>\n",
              "  </tbody>\n",
              "</table>\n",
              "</div>\n",
              "      <button class=\"colab-df-convert\" onclick=\"convertToInteractive('df-0d762774-7a5f-4277-a41b-3ef2ebfd2523')\"\n",
              "              title=\"Convert this dataframe to an interactive table.\"\n",
              "              style=\"display:none;\">\n",
              "        \n",
              "  <svg xmlns=\"http://www.w3.org/2000/svg\" height=\"24px\"viewBox=\"0 0 24 24\"\n",
              "       width=\"24px\">\n",
              "    <path d=\"M0 0h24v24H0V0z\" fill=\"none\"/>\n",
              "    <path d=\"M18.56 5.44l.94 2.06.94-2.06 2.06-.94-2.06-.94-.94-2.06-.94 2.06-2.06.94zm-11 1L8.5 8.5l.94-2.06 2.06-.94-2.06-.94L8.5 2.5l-.94 2.06-2.06.94zm10 10l.94 2.06.94-2.06 2.06-.94-2.06-.94-.94-2.06-.94 2.06-2.06.94z\"/><path d=\"M17.41 7.96l-1.37-1.37c-.4-.4-.92-.59-1.43-.59-.52 0-1.04.2-1.43.59L10.3 9.45l-7.72 7.72c-.78.78-.78 2.05 0 2.83L4 21.41c.39.39.9.59 1.41.59.51 0 1.02-.2 1.41-.59l7.78-7.78 2.81-2.81c.8-.78.8-2.07 0-2.86zM5.41 20L4 18.59l7.72-7.72 1.47 1.35L5.41 20z\"/>\n",
              "  </svg>\n",
              "      </button>\n",
              "      \n",
              "  <style>\n",
              "    .colab-df-container {\n",
              "      display:flex;\n",
              "      flex-wrap:wrap;\n",
              "      gap: 12px;\n",
              "    }\n",
              "\n",
              "    .colab-df-convert {\n",
              "      background-color: #E8F0FE;\n",
              "      border: none;\n",
              "      border-radius: 50%;\n",
              "      cursor: pointer;\n",
              "      display: none;\n",
              "      fill: #1967D2;\n",
              "      height: 32px;\n",
              "      padding: 0 0 0 0;\n",
              "      width: 32px;\n",
              "    }\n",
              "\n",
              "    .colab-df-convert:hover {\n",
              "      background-color: #E2EBFA;\n",
              "      box-shadow: 0px 1px 2px rgba(60, 64, 67, 0.3), 0px 1px 3px 1px rgba(60, 64, 67, 0.15);\n",
              "      fill: #174EA6;\n",
              "    }\n",
              "\n",
              "    [theme=dark] .colab-df-convert {\n",
              "      background-color: #3B4455;\n",
              "      fill: #D2E3FC;\n",
              "    }\n",
              "\n",
              "    [theme=dark] .colab-df-convert:hover {\n",
              "      background-color: #434B5C;\n",
              "      box-shadow: 0px 1px 3px 1px rgba(0, 0, 0, 0.15);\n",
              "      filter: drop-shadow(0px 1px 2px rgba(0, 0, 0, 0.3));\n",
              "      fill: #FFFFFF;\n",
              "    }\n",
              "  </style>\n",
              "\n",
              "      <script>\n",
              "        const buttonEl =\n",
              "          document.querySelector('#df-0d762774-7a5f-4277-a41b-3ef2ebfd2523 button.colab-df-convert');\n",
              "        buttonEl.style.display =\n",
              "          google.colab.kernel.accessAllowed ? 'block' : 'none';\n",
              "\n",
              "        async function convertToInteractive(key) {\n",
              "          const element = document.querySelector('#df-0d762774-7a5f-4277-a41b-3ef2ebfd2523');\n",
              "          const dataTable =\n",
              "            await google.colab.kernel.invokeFunction('convertToInteractive',\n",
              "                                                     [key], {});\n",
              "          if (!dataTable) return;\n",
              "\n",
              "          const docLinkHtml = 'Like what you see? Visit the ' +\n",
              "            '<a target=\"_blank\" href=https://colab.research.google.com/notebooks/data_table.ipynb>data table notebook</a>'\n",
              "            + ' to learn more about interactive tables.';\n",
              "          element.innerHTML = '';\n",
              "          dataTable['output_type'] = 'display_data';\n",
              "          await google.colab.output.renderOutput(dataTable, element);\n",
              "          const docLink = document.createElement('div');\n",
              "          docLink.innerHTML = docLinkHtml;\n",
              "          element.appendChild(docLink);\n",
              "        }\n",
              "      </script>\n",
              "    </div>\n",
              "  </div>\n",
              "  "
            ]
          },
          "metadata": {},
          "execution_count": 133
        }
      ]
    },
    {
      "cell_type": "code",
      "source": [
        "pd.pivot_table(df_output, index=['state','job_simplified'], values='avg_salary').sort_values('state', ascending=False)"
      ],
      "metadata": {
        "colab": {
          "base_uri": "https://localhost:8080/",
          "height": 1000
        },
        "id": "XAvg3R72XgyK",
        "outputId": "5f222148-6f49-4703-d993-ac651429ae60"
      },
      "execution_count": 138,
      "outputs": [
        {
          "output_type": "execute_result",
          "data": {
            "text/plain": [
              "                      avg_salary\n",
              "state job_simplified            \n",
              "WA    analyst          64.754717\n",
              "VA    analyst          65.187500\n",
              "UT    data scientist   36.500000\n",
              "      data engineer    36.500000\n",
              "      analyst          37.672414\n",
              "TX    data engineer    69.833333\n",
              "      analyst          58.820876\n",
              "      data scientist   38.666667\n",
              "SC    analyst          68.333333\n",
              "PA    data engineer    88.500000\n",
              "      analyst          61.491150\n",
              "OH    data scientist   40.000000\n",
              "      analyst          45.515152\n",
              "NY    data scientist   72.000000\n",
              "      data engineer    66.500000\n",
              "      analyst          71.422515\n",
              "NJ    data scientist   66.500000\n",
              "      analyst          73.076471\n",
              "NC    analyst          68.022727\n",
              "      data engineer    68.000000\n",
              "KS    analyst          51.500000\n",
              "IN    analyst          47.500000\n",
              "IL    data scientist   95.250000\n",
              "      data engineer    77.500000\n",
              "      analyst          78.109375\n",
              "GA    analyst          44.000000\n",
              "FL    analyst          51.851852\n",
              "DE    analyst          59.727273\n",
              "CO    data engineer    70.000000\n",
              "      analyst          73.542105\n",
              "CA    analyst          88.362682\n",
              "      data scientist  119.166667\n",
              "      data engineer    76.125000\n",
              "AZ    data engineer    68.500000\n",
              "      analyst          70.812500"
            ],
            "text/html": [
              "\n",
              "  <div id=\"df-25ff64e2-4342-466c-9348-6e946e8f6615\">\n",
              "    <div class=\"colab-df-container\">\n",
              "      <div>\n",
              "<style scoped>\n",
              "    .dataframe tbody tr th:only-of-type {\n",
              "        vertical-align: middle;\n",
              "    }\n",
              "\n",
              "    .dataframe tbody tr th {\n",
              "        vertical-align: top;\n",
              "    }\n",
              "\n",
              "    .dataframe thead th {\n",
              "        text-align: right;\n",
              "    }\n",
              "</style>\n",
              "<table border=\"1\" class=\"dataframe\">\n",
              "  <thead>\n",
              "    <tr style=\"text-align: right;\">\n",
              "      <th></th>\n",
              "      <th></th>\n",
              "      <th>avg_salary</th>\n",
              "    </tr>\n",
              "    <tr>\n",
              "      <th>state</th>\n",
              "      <th>job_simplified</th>\n",
              "      <th></th>\n",
              "    </tr>\n",
              "  </thead>\n",
              "  <tbody>\n",
              "    <tr>\n",
              "      <th>WA</th>\n",
              "      <th>analyst</th>\n",
              "      <td>64.754717</td>\n",
              "    </tr>\n",
              "    <tr>\n",
              "      <th>VA</th>\n",
              "      <th>analyst</th>\n",
              "      <td>65.187500</td>\n",
              "    </tr>\n",
              "    <tr>\n",
              "      <th rowspan=\"3\" valign=\"top\">UT</th>\n",
              "      <th>data scientist</th>\n",
              "      <td>36.500000</td>\n",
              "    </tr>\n",
              "    <tr>\n",
              "      <th>data engineer</th>\n",
              "      <td>36.500000</td>\n",
              "    </tr>\n",
              "    <tr>\n",
              "      <th>analyst</th>\n",
              "      <td>37.672414</td>\n",
              "    </tr>\n",
              "    <tr>\n",
              "      <th rowspan=\"3\" valign=\"top\">TX</th>\n",
              "      <th>data engineer</th>\n",
              "      <td>69.833333</td>\n",
              "    </tr>\n",
              "    <tr>\n",
              "      <th>analyst</th>\n",
              "      <td>58.820876</td>\n",
              "    </tr>\n",
              "    <tr>\n",
              "      <th>data scientist</th>\n",
              "      <td>38.666667</td>\n",
              "    </tr>\n",
              "    <tr>\n",
              "      <th>SC</th>\n",
              "      <th>analyst</th>\n",
              "      <td>68.333333</td>\n",
              "    </tr>\n",
              "    <tr>\n",
              "      <th rowspan=\"2\" valign=\"top\">PA</th>\n",
              "      <th>data engineer</th>\n",
              "      <td>88.500000</td>\n",
              "    </tr>\n",
              "    <tr>\n",
              "      <th>analyst</th>\n",
              "      <td>61.491150</td>\n",
              "    </tr>\n",
              "    <tr>\n",
              "      <th rowspan=\"2\" valign=\"top\">OH</th>\n",
              "      <th>data scientist</th>\n",
              "      <td>40.000000</td>\n",
              "    </tr>\n",
              "    <tr>\n",
              "      <th>analyst</th>\n",
              "      <td>45.515152</td>\n",
              "    </tr>\n",
              "    <tr>\n",
              "      <th rowspan=\"3\" valign=\"top\">NY</th>\n",
              "      <th>data scientist</th>\n",
              "      <td>72.000000</td>\n",
              "    </tr>\n",
              "    <tr>\n",
              "      <th>data engineer</th>\n",
              "      <td>66.500000</td>\n",
              "    </tr>\n",
              "    <tr>\n",
              "      <th>analyst</th>\n",
              "      <td>71.422515</td>\n",
              "    </tr>\n",
              "    <tr>\n",
              "      <th rowspan=\"2\" valign=\"top\">NJ</th>\n",
              "      <th>data scientist</th>\n",
              "      <td>66.500000</td>\n",
              "    </tr>\n",
              "    <tr>\n",
              "      <th>analyst</th>\n",
              "      <td>73.076471</td>\n",
              "    </tr>\n",
              "    <tr>\n",
              "      <th rowspan=\"2\" valign=\"top\">NC</th>\n",
              "      <th>analyst</th>\n",
              "      <td>68.022727</td>\n",
              "    </tr>\n",
              "    <tr>\n",
              "      <th>data engineer</th>\n",
              "      <td>68.000000</td>\n",
              "    </tr>\n",
              "    <tr>\n",
              "      <th>KS</th>\n",
              "      <th>analyst</th>\n",
              "      <td>51.500000</td>\n",
              "    </tr>\n",
              "    <tr>\n",
              "      <th>IN</th>\n",
              "      <th>analyst</th>\n",
              "      <td>47.500000</td>\n",
              "    </tr>\n",
              "    <tr>\n",
              "      <th rowspan=\"3\" valign=\"top\">IL</th>\n",
              "      <th>data scientist</th>\n",
              "      <td>95.250000</td>\n",
              "    </tr>\n",
              "    <tr>\n",
              "      <th>data engineer</th>\n",
              "      <td>77.500000</td>\n",
              "    </tr>\n",
              "    <tr>\n",
              "      <th>analyst</th>\n",
              "      <td>78.109375</td>\n",
              "    </tr>\n",
              "    <tr>\n",
              "      <th>GA</th>\n",
              "      <th>analyst</th>\n",
              "      <td>44.000000</td>\n",
              "    </tr>\n",
              "    <tr>\n",
              "      <th>FL</th>\n",
              "      <th>analyst</th>\n",
              "      <td>51.851852</td>\n",
              "    </tr>\n",
              "    <tr>\n",
              "      <th>DE</th>\n",
              "      <th>analyst</th>\n",
              "      <td>59.727273</td>\n",
              "    </tr>\n",
              "    <tr>\n",
              "      <th rowspan=\"2\" valign=\"top\">CO</th>\n",
              "      <th>data engineer</th>\n",
              "      <td>70.000000</td>\n",
              "    </tr>\n",
              "    <tr>\n",
              "      <th>analyst</th>\n",
              "      <td>73.542105</td>\n",
              "    </tr>\n",
              "    <tr>\n",
              "      <th rowspan=\"3\" valign=\"top\">CA</th>\n",
              "      <th>analyst</th>\n",
              "      <td>88.362682</td>\n",
              "    </tr>\n",
              "    <tr>\n",
              "      <th>data scientist</th>\n",
              "      <td>119.166667</td>\n",
              "    </tr>\n",
              "    <tr>\n",
              "      <th>data engineer</th>\n",
              "      <td>76.125000</td>\n",
              "    </tr>\n",
              "    <tr>\n",
              "      <th rowspan=\"2\" valign=\"top\">AZ</th>\n",
              "      <th>data engineer</th>\n",
              "      <td>68.500000</td>\n",
              "    </tr>\n",
              "    <tr>\n",
              "      <th>analyst</th>\n",
              "      <td>70.812500</td>\n",
              "    </tr>\n",
              "  </tbody>\n",
              "</table>\n",
              "</div>\n",
              "      <button class=\"colab-df-convert\" onclick=\"convertToInteractive('df-25ff64e2-4342-466c-9348-6e946e8f6615')\"\n",
              "              title=\"Convert this dataframe to an interactive table.\"\n",
              "              style=\"display:none;\">\n",
              "        \n",
              "  <svg xmlns=\"http://www.w3.org/2000/svg\" height=\"24px\"viewBox=\"0 0 24 24\"\n",
              "       width=\"24px\">\n",
              "    <path d=\"M0 0h24v24H0V0z\" fill=\"none\"/>\n",
              "    <path d=\"M18.56 5.44l.94 2.06.94-2.06 2.06-.94-2.06-.94-.94-2.06-.94 2.06-2.06.94zm-11 1L8.5 8.5l.94-2.06 2.06-.94-2.06-.94L8.5 2.5l-.94 2.06-2.06.94zm10 10l.94 2.06.94-2.06 2.06-.94-2.06-.94-.94-2.06-.94 2.06-2.06.94z\"/><path d=\"M17.41 7.96l-1.37-1.37c-.4-.4-.92-.59-1.43-.59-.52 0-1.04.2-1.43.59L10.3 9.45l-7.72 7.72c-.78.78-.78 2.05 0 2.83L4 21.41c.39.39.9.59 1.41.59.51 0 1.02-.2 1.41-.59l7.78-7.78 2.81-2.81c.8-.78.8-2.07 0-2.86zM5.41 20L4 18.59l7.72-7.72 1.47 1.35L5.41 20z\"/>\n",
              "  </svg>\n",
              "      </button>\n",
              "      \n",
              "  <style>\n",
              "    .colab-df-container {\n",
              "      display:flex;\n",
              "      flex-wrap:wrap;\n",
              "      gap: 12px;\n",
              "    }\n",
              "\n",
              "    .colab-df-convert {\n",
              "      background-color: #E8F0FE;\n",
              "      border: none;\n",
              "      border-radius: 50%;\n",
              "      cursor: pointer;\n",
              "      display: none;\n",
              "      fill: #1967D2;\n",
              "      height: 32px;\n",
              "      padding: 0 0 0 0;\n",
              "      width: 32px;\n",
              "    }\n",
              "\n",
              "    .colab-df-convert:hover {\n",
              "      background-color: #E2EBFA;\n",
              "      box-shadow: 0px 1px 2px rgba(60, 64, 67, 0.3), 0px 1px 3px 1px rgba(60, 64, 67, 0.15);\n",
              "      fill: #174EA6;\n",
              "    }\n",
              "\n",
              "    [theme=dark] .colab-df-convert {\n",
              "      background-color: #3B4455;\n",
              "      fill: #D2E3FC;\n",
              "    }\n",
              "\n",
              "    [theme=dark] .colab-df-convert:hover {\n",
              "      background-color: #434B5C;\n",
              "      box-shadow: 0px 1px 3px 1px rgba(0, 0, 0, 0.15);\n",
              "      filter: drop-shadow(0px 1px 2px rgba(0, 0, 0, 0.3));\n",
              "      fill: #FFFFFF;\n",
              "    }\n",
              "  </style>\n",
              "\n",
              "      <script>\n",
              "        const buttonEl =\n",
              "          document.querySelector('#df-25ff64e2-4342-466c-9348-6e946e8f6615 button.colab-df-convert');\n",
              "        buttonEl.style.display =\n",
              "          google.colab.kernel.accessAllowed ? 'block' : 'none';\n",
              "\n",
              "        async function convertToInteractive(key) {\n",
              "          const element = document.querySelector('#df-25ff64e2-4342-466c-9348-6e946e8f6615');\n",
              "          const dataTable =\n",
              "            await google.colab.kernel.invokeFunction('convertToInteractive',\n",
              "                                                     [key], {});\n",
              "          if (!dataTable) return;\n",
              "\n",
              "          const docLinkHtml = 'Like what you see? Visit the ' +\n",
              "            '<a target=\"_blank\" href=https://colab.research.google.com/notebooks/data_table.ipynb>data table notebook</a>'\n",
              "            + ' to learn more about interactive tables.';\n",
              "          element.innerHTML = '';\n",
              "          dataTable['output_type'] = 'display_data';\n",
              "          await google.colab.output.renderOutput(dataTable, element);\n",
              "          const docLink = document.createElement('div');\n",
              "          docLink.innerHTML = docLinkHtml;\n",
              "          element.appendChild(docLink);\n",
              "        }\n",
              "      </script>\n",
              "    </div>\n",
              "  </div>\n",
              "  "
            ]
          },
          "metadata": {},
          "execution_count": 138
        }
      ]
    },
    {
      "cell_type": "code",
      "source": [
        "pd.pivot_table(df_output, index='Revenue', columns='python' ,values='avg_salary', aggfunc='count')"
      ],
      "metadata": {
        "colab": {
          "base_uri": "https://localhost:8080/",
          "height": 520
        },
        "id": "rbt7K4OCl5m4",
        "outputId": "fec1270d-8abc-4804-d12d-078518341dea"
      },
      "execution_count": 178,
      "outputs": [
        {
          "output_type": "execute_result",
          "data": {
            "text/plain": [
              "python                              0    1\n",
              "Revenue                                   \n",
              "$1 to $2 billion (USD)             65   22\n",
              "$1 to $5 million (USD)             82   29\n",
              "$10 to $25 million (USD)           94   38\n",
              "$10+ billion (USD)                133   56\n",
              "$100 to $500 million (USD)        158   60\n",
              "$2 to $5 billion (USD)             97   32\n",
              "$25 to $50 million (USD)           76   33\n",
              "$5 to $10 billion (USD)            36   20\n",
              "$5 to $10 million (USD)            57   15\n",
              "$50 to $100 million (USD)         168   31\n",
              "$500 million to $1 billion (USD)   61   18\n",
              "-1                                126   36\n",
              "Less than $1 million (USD)         73   20\n",
              "Unknown / Non-Applicable          388  227"
            ],
            "text/html": [
              "\n",
              "  <div id=\"df-8cba16d5-c168-4a19-b2b5-628df0e17e93\">\n",
              "    <div class=\"colab-df-container\">\n",
              "      <div>\n",
              "<style scoped>\n",
              "    .dataframe tbody tr th:only-of-type {\n",
              "        vertical-align: middle;\n",
              "    }\n",
              "\n",
              "    .dataframe tbody tr th {\n",
              "        vertical-align: top;\n",
              "    }\n",
              "\n",
              "    .dataframe thead th {\n",
              "        text-align: right;\n",
              "    }\n",
              "</style>\n",
              "<table border=\"1\" class=\"dataframe\">\n",
              "  <thead>\n",
              "    <tr style=\"text-align: right;\">\n",
              "      <th>python</th>\n",
              "      <th>0</th>\n",
              "      <th>1</th>\n",
              "    </tr>\n",
              "    <tr>\n",
              "      <th>Revenue</th>\n",
              "      <th></th>\n",
              "      <th></th>\n",
              "    </tr>\n",
              "  </thead>\n",
              "  <tbody>\n",
              "    <tr>\n",
              "      <th>$1 to $2 billion (USD)</th>\n",
              "      <td>65</td>\n",
              "      <td>22</td>\n",
              "    </tr>\n",
              "    <tr>\n",
              "      <th>$1 to $5 million (USD)</th>\n",
              "      <td>82</td>\n",
              "      <td>29</td>\n",
              "    </tr>\n",
              "    <tr>\n",
              "      <th>$10 to $25 million (USD)</th>\n",
              "      <td>94</td>\n",
              "      <td>38</td>\n",
              "    </tr>\n",
              "    <tr>\n",
              "      <th>$10+ billion (USD)</th>\n",
              "      <td>133</td>\n",
              "      <td>56</td>\n",
              "    </tr>\n",
              "    <tr>\n",
              "      <th>$100 to $500 million (USD)</th>\n",
              "      <td>158</td>\n",
              "      <td>60</td>\n",
              "    </tr>\n",
              "    <tr>\n",
              "      <th>$2 to $5 billion (USD)</th>\n",
              "      <td>97</td>\n",
              "      <td>32</td>\n",
              "    </tr>\n",
              "    <tr>\n",
              "      <th>$25 to $50 million (USD)</th>\n",
              "      <td>76</td>\n",
              "      <td>33</td>\n",
              "    </tr>\n",
              "    <tr>\n",
              "      <th>$5 to $10 billion (USD)</th>\n",
              "      <td>36</td>\n",
              "      <td>20</td>\n",
              "    </tr>\n",
              "    <tr>\n",
              "      <th>$5 to $10 million (USD)</th>\n",
              "      <td>57</td>\n",
              "      <td>15</td>\n",
              "    </tr>\n",
              "    <tr>\n",
              "      <th>$50 to $100 million (USD)</th>\n",
              "      <td>168</td>\n",
              "      <td>31</td>\n",
              "    </tr>\n",
              "    <tr>\n",
              "      <th>$500 million to $1 billion (USD)</th>\n",
              "      <td>61</td>\n",
              "      <td>18</td>\n",
              "    </tr>\n",
              "    <tr>\n",
              "      <th>-1</th>\n",
              "      <td>126</td>\n",
              "      <td>36</td>\n",
              "    </tr>\n",
              "    <tr>\n",
              "      <th>Less than $1 million (USD)</th>\n",
              "      <td>73</td>\n",
              "      <td>20</td>\n",
              "    </tr>\n",
              "    <tr>\n",
              "      <th>Unknown / Non-Applicable</th>\n",
              "      <td>388</td>\n",
              "      <td>227</td>\n",
              "    </tr>\n",
              "  </tbody>\n",
              "</table>\n",
              "</div>\n",
              "      <button class=\"colab-df-convert\" onclick=\"convertToInteractive('df-8cba16d5-c168-4a19-b2b5-628df0e17e93')\"\n",
              "              title=\"Convert this dataframe to an interactive table.\"\n",
              "              style=\"display:none;\">\n",
              "        \n",
              "  <svg xmlns=\"http://www.w3.org/2000/svg\" height=\"24px\"viewBox=\"0 0 24 24\"\n",
              "       width=\"24px\">\n",
              "    <path d=\"M0 0h24v24H0V0z\" fill=\"none\"/>\n",
              "    <path d=\"M18.56 5.44l.94 2.06.94-2.06 2.06-.94-2.06-.94-.94-2.06-.94 2.06-2.06.94zm-11 1L8.5 8.5l.94-2.06 2.06-.94-2.06-.94L8.5 2.5l-.94 2.06-2.06.94zm10 10l.94 2.06.94-2.06 2.06-.94-2.06-.94-.94-2.06-.94 2.06-2.06.94z\"/><path d=\"M17.41 7.96l-1.37-1.37c-.4-.4-.92-.59-1.43-.59-.52 0-1.04.2-1.43.59L10.3 9.45l-7.72 7.72c-.78.78-.78 2.05 0 2.83L4 21.41c.39.39.9.59 1.41.59.51 0 1.02-.2 1.41-.59l7.78-7.78 2.81-2.81c.8-.78.8-2.07 0-2.86zM5.41 20L4 18.59l7.72-7.72 1.47 1.35L5.41 20z\"/>\n",
              "  </svg>\n",
              "      </button>\n",
              "      \n",
              "  <style>\n",
              "    .colab-df-container {\n",
              "      display:flex;\n",
              "      flex-wrap:wrap;\n",
              "      gap: 12px;\n",
              "    }\n",
              "\n",
              "    .colab-df-convert {\n",
              "      background-color: #E8F0FE;\n",
              "      border: none;\n",
              "      border-radius: 50%;\n",
              "      cursor: pointer;\n",
              "      display: none;\n",
              "      fill: #1967D2;\n",
              "      height: 32px;\n",
              "      padding: 0 0 0 0;\n",
              "      width: 32px;\n",
              "    }\n",
              "\n",
              "    .colab-df-convert:hover {\n",
              "      background-color: #E2EBFA;\n",
              "      box-shadow: 0px 1px 2px rgba(60, 64, 67, 0.3), 0px 1px 3px 1px rgba(60, 64, 67, 0.15);\n",
              "      fill: #174EA6;\n",
              "    }\n",
              "\n",
              "    [theme=dark] .colab-df-convert {\n",
              "      background-color: #3B4455;\n",
              "      fill: #D2E3FC;\n",
              "    }\n",
              "\n",
              "    [theme=dark] .colab-df-convert:hover {\n",
              "      background-color: #434B5C;\n",
              "      box-shadow: 0px 1px 3px 1px rgba(0, 0, 0, 0.15);\n",
              "      filter: drop-shadow(0px 1px 2px rgba(0, 0, 0, 0.3));\n",
              "      fill: #FFFFFF;\n",
              "    }\n",
              "  </style>\n",
              "\n",
              "      <script>\n",
              "        const buttonEl =\n",
              "          document.querySelector('#df-8cba16d5-c168-4a19-b2b5-628df0e17e93 button.colab-df-convert');\n",
              "        buttonEl.style.display =\n",
              "          google.colab.kernel.accessAllowed ? 'block' : 'none';\n",
              "\n",
              "        async function convertToInteractive(key) {\n",
              "          const element = document.querySelector('#df-8cba16d5-c168-4a19-b2b5-628df0e17e93');\n",
              "          const dataTable =\n",
              "            await google.colab.kernel.invokeFunction('convertToInteractive',\n",
              "                                                     [key], {});\n",
              "          if (!dataTable) return;\n",
              "\n",
              "          const docLinkHtml = 'Like what you see? Visit the ' +\n",
              "            '<a target=\"_blank\" href=https://colab.research.google.com/notebooks/data_table.ipynb>data table notebook</a>'\n",
              "            + ' to learn more about interactive tables.';\n",
              "          element.innerHTML = '';\n",
              "          dataTable['output_type'] = 'display_data';\n",
              "          await google.colab.output.renderOutput(dataTable, element);\n",
              "          const docLink = document.createElement('div');\n",
              "          docLink.innerHTML = docLinkHtml;\n",
              "          element.appendChild(docLink);\n",
              "        }\n",
              "      </script>\n",
              "    </div>\n",
              "  </div>\n",
              "  "
            ]
          },
          "metadata": {},
          "execution_count": 178
        }
      ]
    },
    {
      "cell_type": "code",
      "source": [
        "pivot_table.columns-"
      ],
      "metadata": {
        "colab": {
          "base_uri": "https://localhost:8080/"
        },
        "id": "rgMH2vstl91T",
        "outputId": "1a0ad70d-2ac2-4bcb-e71c-333a7c4cce1f"
      },
      "execution_count": 170,
      "outputs": [
        {
          "output_type": "execute_result",
          "data": {
            "text/plain": [
              "Index(['Job Title', 'Salary Estimate', 'Job Description', 'Rating',\n",
              "       'Company Name', 'Location', 'Headquarters', 'Size', 'Founded',\n",
              "       'Type of ownership', 'Industry', 'Sector', 'Revenue', 'Competitors',\n",
              "       'min_salary', 'max_salary', 'avg_salary', 'Company text', 'state',\n",
              "       'age', 'python', 'sql', 'spark', 'aws', 'excel', 'tableau',\n",
              "       'job_simplified', 'seniority', 'description length',\n",
              "       'number_competitors'],\n",
              "      dtype='object')"
            ]
          },
          "metadata": {},
          "execution_count": 170
        }
      ]
    },
    {
      "cell_type": "code",
      "source": [
        "for count,i in enumerate(pivot_df.columns):\n",
        "  if i != 'avg_salary':\n",
        "    print(pd.pivot_table(pivot_df, index=i, values='avg_salary').sort_values('avg_salary', ascending=False).sort_values('avg_salary', ascending=False))"
      ],
      "metadata": {
        "colab": {
          "base_uri": "https://localhost:8080/"
        },
        "id": "cmPf8Pd5fzBU",
        "outputId": "be443417-b7f0-4d0c-f17b-7ccd8cb6b0e8"
      },
      "execution_count": 168,
      "outputs": [
        {
          "output_type": "stream",
          "name": "stdout",
          "text": [
            "        avg_salary\n",
            "Rating            \n",
            " 2.2     95.666667\n",
            " 4.4     82.366667\n",
            " 1.7     82.000000\n",
            " 1.6     80.000000\n",
            " 2.0     79.750000\n",
            " 2.4     77.350000\n",
            " 4.5     76.925532\n",
            " 3.2     76.901099\n",
            " 2.1     76.625000\n",
            " 4.0     76.232558\n",
            " 3.9     75.210714\n",
            " 4.6     74.760870\n",
            " 4.1     74.424370\n",
            " 2.3     73.888889\n",
            " 4.2     73.159574\n",
            " 4.8     72.913793\n",
            "-1.0     72.856089\n",
            " 2.5     72.781250\n",
            " 3.4     72.158416\n",
            " 5.0     72.125954\n",
            " 3.7     71.803030\n",
            " 3.3     71.440367\n",
            " 4.7     71.000000\n",
            " 3.0     70.982456\n",
            " 3.8     69.534615\n",
            " 3.6     69.207407\n",
            " 3.1     68.801471\n",
            " 4.3     68.172727\n",
            " 2.8     67.825581\n",
            " 3.5     67.240000\n",
            " 2.9     66.887500\n",
            " 2.6     65.821429\n",
            " 1.0     64.250000\n",
            " 2.7     62.780000\n",
            " 4.9     61.470588\n",
            " 1.9     61.250000\n",
            " 1.8     58.250000\n",
            "                                    avg_salary\n",
            "Industry                                      \n",
            "Drug & Health Stores                 95.250000\n",
            "Education Training Services          92.833333\n",
            "Health Care Products Manufacturing   89.800000\n",
            "Sports & Recreation                  88.166667\n",
            "Gambling                             88.000000\n",
            "...                                        ...\n",
            "Casual Restaurants                   48.300000\n",
            "Oil & Gas Services                   46.375000\n",
            "Grocery Stores & Supermarkets        41.500000\n",
            "Trucking                             38.500000\n",
            "Audiovisual                          36.000000\n",
            "\n",
            "[89 rows x 1 columns]\n",
            "                                    avg_salary\n",
            "Sector                                        \n",
            "Biotech & Pharmaceuticals            83.106061\n",
            "Real Estate                          80.916667\n",
            "Arts, Entertainment & Recreation     80.642857\n",
            "Accounting & Legal                   75.220930\n",
            "Information Technology               74.247368\n",
            "Health Care                          72.807947\n",
            "-1                                   72.690341\n",
            "Business Services                    72.273423\n",
            "Manufacturing                        72.075000\n",
            "Consumer Services                    71.500000\n",
            "Construction, Repair & Maintenance   70.968750\n",
            "Telecommunications                   70.363636\n",
            "Insurance                            70.254902\n",
            "Education                            69.567308\n",
            "Transportation & Logistics           69.350000\n",
            "Aerospace & Defense                  68.500000\n",
            "Media                                68.476190\n",
            "Finance                              67.644970\n",
            "Retail                               66.684211\n",
            "Non-Profit                           65.769231\n",
            "Government                           64.319444\n",
            "Oil, Gas, Energy & Utilities         63.269231\n",
            "Travel & Tourism                     62.000000\n",
            "Mining & Metals                      59.500000\n",
            "Restaurants, Bars & Food Services    54.000000\n",
            "                                  avg_salary\n",
            "Revenue                                     \n",
            "$1 to $5 million (USD)             75.941441\n",
            "$25 to $50 million (USD)           74.651376\n",
            "$5 to $10 billion (USD)            73.732143\n",
            "Unknown / Non-Applicable           73.496748\n",
            "-1                                 73.453704\n",
            "$100 to $500 million (USD)         71.830275\n",
            "$2 to $5 billion (USD)             71.794574\n",
            "Less than $1 million (USD)         70.903226\n",
            "$10 to $25 million (USD)           70.553030\n",
            "$10+ billion (USD)                 70.457672\n",
            "$5 to $10 million (USD)            70.451389\n",
            "$1 to $2 billion (USD)             70.327586\n",
            "$500 million to $1 billion (USD)   69.829114\n",
            "$50 to $100 million (USD)          68.834171\n",
            "                    avg_salary\n",
            "number_competitors            \n",
            "11                  106.000000\n",
            "1                    79.500000\n",
            "2                    75.392857\n",
            "8                    74.312500\n",
            "7                    74.203704\n",
            "3                    73.558511\n",
            "4                    73.076336\n",
            "0                    71.954624\n",
            "6                    70.959459\n",
            "5                    69.945122\n",
            "14                   66.500000\n",
            "9                    65.000000\n",
            "12                   63.166667\n",
            "10                   52.833333\n",
            "        avg_salary\n",
            "python            \n",
            "1        74.733909\n",
            "0        71.090149\n",
            "     avg_salary\n",
            "sql            \n",
            "0     72.647569\n",
            "1     71.793439\n",
            "       avg_salary\n",
            "spark            \n",
            "0       72.123265\n",
            "1       72.073034\n",
            "     avg_salary\n",
            "aws            \n",
            "0     72.492915\n",
            "1     69.450909\n",
            "       avg_salary\n",
            "excel            \n",
            "0       72.809789\n",
            "1       71.663462\n",
            "         avg_salary\n",
            "tableau            \n",
            "1         74.243548\n",
            "0         71.314531\n",
            "                    avg_salary\n",
            "description length            \n",
            "1296                     150.0\n",
            "1302                     150.0\n",
            "693                      150.0\n",
            "883                      150.0\n",
            "3472                     150.0\n",
            "...                        ...\n",
            "3158                      33.5\n",
            "4745                      33.5\n",
            "4534                      33.5\n",
            "12299                     33.5\n",
            "5                         33.5\n",
            "\n",
            "[1840 rows x 1 columns]\n",
            "                                avg_salary\n",
            "Type of ownership                         \n",
            "Hospital                         81.710526\n",
            "Unknown                          73.593750\n",
            "-1                               73.453704\n",
            "College / University             73.338235\n",
            "Company - Public                 72.701327\n",
            "Contract                         72.500000\n",
            "Company - Private                72.499607\n",
            "Private Practice / Firm          71.611111\n",
            "Other Organization               70.692308\n",
            "Subsidiary or Business Segment   70.398876\n",
            "Nonprofit Organization           68.625000\n",
            "Franchise                        63.500000\n",
            "Government                       60.337838\n",
            "School / School District         59.277778\n",
            "Self-employed                    56.250000\n"
          ]
        }
      ]
    },
    {
      "cell_type": "code",
      "source": [],
      "metadata": {
        "id": "UtP2BkgWdmIc"
      },
      "execution_count": null,
      "outputs": []
    }
  ]
}